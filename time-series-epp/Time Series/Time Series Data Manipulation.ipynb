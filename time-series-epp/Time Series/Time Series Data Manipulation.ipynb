{
 "cells": [
  {
   "cell_type": "code",
   "execution_count": 1,
   "metadata": {
    "collapsed": true
   },
   "outputs": [],
   "source": [
    "import pandas as pd\n",
    "import numpy as np\n",
    "import matplotlib.pyplot as plt"
   ]
  },
  {
   "cell_type": "code",
   "execution_count": 194,
   "metadata": {},
   "outputs": [
    {
     "name": "stdout",
     "output_type": "stream",
     "text": [
      "         Date    Open    High     Low   Close    Volume  Adj Close\n",
      "0  2008-10-14  116.26  116.40  103.14  104.08  70749800     104.08\n",
      "1  2008-10-13  104.55  110.53  101.02  110.26  54967000     110.26\n",
      "2  2008-10-10   85.70  100.00   85.00   96.80  79260700      96.80\n",
      "3  2008-10-09   93.35   95.80   86.60   88.74  57763700      88.74\n",
      "4  2008-10-08   85.91   96.33   85.68   89.79  78847900      89.79\n",
      "              Open         High          Low        Close        Volume  \\\n",
      "count  6081.000000  6081.000000  6081.000000  6081.000000  6.081000e+03   \n",
      "mean     46.823511    47.681506    45.913595    46.798619  1.363986e+07   \n",
      "std      33.993517    34.578077    33.273106    33.947235  1.352107e+07   \n",
      "min      12.880000    13.190000    12.720000    12.940000  8.880000e+04   \n",
      "25%      24.730000    25.010000    24.200000    24.690000  5.530000e+06   \n",
      "50%      38.250000    38.880000    37.460000    38.130000  8.976400e+06   \n",
      "75%      53.500000    54.550000    52.500000    53.610000  1.631920e+07   \n",
      "max     200.590000   202.960000   197.800000   199.830000  2.650690e+08   \n",
      "\n",
      "         Adj Close  \n",
      "count  6081.000000  \n",
      "mean     23.529794  \n",
      "std      37.375601  \n",
      "min       1.650000  \n",
      "25%       7.380000  \n",
      "50%       9.910000  \n",
      "75%      14.360000  \n",
      "max     199.830000  \n",
      "<class 'pandas.core.frame.DataFrame'>\n",
      "RangeIndex: 6081 entries, 0 to 6080\n",
      "Data columns (total 7 columns):\n",
      "Date         6081 non-null object\n",
      "Open         6081 non-null float64\n",
      "High         6081 non-null float64\n",
      "Low          6081 non-null float64\n",
      "Close        6081 non-null float64\n",
      "Volume       6081 non-null int64\n",
      "Adj Close    6081 non-null float64\n",
      "dtypes: float64(5), int64(1), object(1)\n",
      "memory usage: 332.6+ KB\n",
      "None\n"
     ]
    }
   ],
   "source": [
    "data=pd.read_csv('aapl.csv')\n",
    "apple=pd.DataFrame(data)\n",
    "print(apple.head(5))\n",
    "print(apple.describe())\n",
    "print(apple.info())"
   ]
  },
  {
   "cell_type": "code",
   "execution_count": 195,
   "metadata": {},
   "outputs": [
    {
     "data": {
      "image/png": "[encoded data removed]",
      "text/plain": [
       "<matplotlib.figure.Figure at 0x49220947f0>"
      ]
     },
     "metadata": {},
     "output_type": "display_data"
    }
   ],
   "source": [
    "'''fig,ax=plt.subplots()\n",
    "\n",
    "ax.plot(apple['Open'],apple['High'],color='green',marker='.')\n",
    "ax.plot(apple.Open,apple.Low,color='red',marker='.')\n",
    "ax.plot(apple.Open,apple.Close,color='black',marker='.')\n",
    "\n",
    "#ax.plot(apple.Date,apple.High,color='blue')\n",
    "#ax.plot(apple.Date,apple.Low,color='black')\n",
    "plt.show()'''\n",
    "apple.hist(figsize=(12,10))\n",
    "plt.show()"
   ]
  },
  {
   "cell_type": "markdown",
   "metadata": {},
   "source": [
    "# TIME STAMP"
   ]
  },
  {
   "cell_type": "code",
   "execution_count": 196,
   "metadata": {},
   "outputs": [
    {
     "data": {
      "text/plain": [
       "Period('1992-12-30', 'D')"
      ]
     },
     "execution_count": 196,
     "metadata": {},
     "output_type": "execute_result"
    }
   ],
   "source": [
    "## EXAMPLE\n",
    "\n",
    "from datetime import datetime\n",
    "date=[]\n",
    "for x in apple['Date']:\n",
    "    a=pd.Timestamp(x)\n",
    "    date=np.append(date,a)\n",
    "date\n",
    "\n",
    "dates=pd.Timestamp('1991-12-28')\n",
    "dates.weekday_name\n",
    "\n",
    "## PERIODS\n",
    "\n",
    "period=pd.Period(datetime(1991,12,28),'M')\n",
    "period\n",
    "period1=period.asfreq('D')\n",
    "period1+365\n"
   ]
  },
  {
   "cell_type": "code",
   "execution_count": 197,
   "metadata": {},
   "outputs": [
    {
     "name": "stdout",
     "output_type": "stream",
     "text": [
      "<class 'pandas.core.frame.DataFrame'>\n",
      "RangeIndex: 6081 entries, 0 to 6080\n",
      "Data columns (total 7 columns):\n",
      "Date         6081 non-null datetime64[ns]\n",
      "Open         6081 non-null float64\n",
      "High         6081 non-null float64\n",
      "Low          6081 non-null float64\n",
      "Close        6081 non-null float64\n",
      "Volume       6081 non-null int64\n",
      "Adj Close    6081 non-null float64\n",
      "dtypes: datetime64[ns](1), float64(5), int64(1)\n",
      "memory usage: 332.6 KB\n",
      "<class 'pandas.core.frame.DataFrame'>\n",
      "RangeIndex: 6081 entries, 0 to 6080\n",
      "Data columns (total 7 columns):\n",
      "Date         6081 non-null datetime64[ns]\n",
      "Open         6081 non-null float64\n",
      "High         6081 non-null float64\n",
      "Low          6081 non-null float64\n",
      "Close        6081 non-null float64\n",
      "Volume       6081 non-null int64\n",
      "Adj Close    6081 non-null float64\n",
      "dtypes: datetime64[ns](1), float64(5), int64(1)\n",
      "memory usage: 332.6 KB\n"
     ]
    }
   ],
   "source": [
    "## REPLACING STRING DATE WITH TIMESTAMP\n",
    "\n",
    "from datetime import datetime\n",
    "date=[]\n",
    "for x in apple['Date']:\n",
    "    a=pd.Timestamp(x)\n",
    "    date=np.append(date,a)\n",
    "date\n",
    "temp=pd.DataFrame({'Date':date})\n",
    "apple['Date']=temp['Date']\n",
    "apple.info()\n",
    "\n",
    "## OR DATETIME\n",
    "\n",
    "apple.Date=pd.to_datetime(apple.Date)\n",
    "apple.info()"
   ]
  },
  {
   "cell_type": "code",
   "execution_count": 198,
   "metadata": {},
   "outputs": [
    {
     "name": "stdout",
     "output_type": "stream",
     "text": [
      "<class 'pandas.core.frame.DataFrame'>\n",
      "DatetimeIndex: 6081 entries, 2008-10-14 to 1984-09-07\n",
      "Data columns (total 6 columns):\n",
      "Open         6081 non-null float64\n",
      "High         6081 non-null float64\n",
      "Low          6081 non-null float64\n",
      "Close        6081 non-null float64\n",
      "Volume       6081 non-null int64\n",
      "Adj Close    6081 non-null float64\n",
      "dtypes: float64(5), int64(1)\n",
      "memory usage: 332.6 KB\n"
     ]
    },
    {
     "data": {
      "text/html": [
       "<div>\n",
       "<style>\n",
       "    .dataframe thead tr:only-child th {\n",
       "        text-align: right;\n",
       "    }\n",
       "\n",
       "    .dataframe thead th {\n",
       "        text-align: left;\n",
       "    }\n",
       "\n",
       "    .dataframe tbody tr th {\n",
       "        vertical-align: top;\n",
       "    }\n",
       "</style>\n",
       "<table border=\"1\" class=\"dataframe\">\n",
       "  <thead>\n",
       "    <tr style=\"text-align: right;\">\n",
       "      <th></th>\n",
       "      <th>Open</th>\n",
       "      <th>High</th>\n",
       "      <th>Low</th>\n",
       "      <th>Close</th>\n",
       "      <th>Volume</th>\n",
       "      <th>Adj Close</th>\n",
       "    </tr>\n",
       "    <tr>\n",
       "      <th>Date</th>\n",
       "      <th></th>\n",
       "      <th></th>\n",
       "      <th></th>\n",
       "      <th></th>\n",
       "      <th></th>\n",
       "      <th></th>\n",
       "    </tr>\n",
       "  </thead>\n",
       "  <tbody>\n",
       "    <tr>\n",
       "      <th>2008-10-14</th>\n",
       "      <td>116.26</td>\n",
       "      <td>116.40</td>\n",
       "      <td>103.14</td>\n",
       "      <td>104.08</td>\n",
       "      <td>70749800</td>\n",
       "      <td>104.08</td>\n",
       "    </tr>\n",
       "    <tr>\n",
       "      <th>2008-10-13</th>\n",
       "      <td>104.55</td>\n",
       "      <td>110.53</td>\n",
       "      <td>101.02</td>\n",
       "      <td>110.26</td>\n",
       "      <td>54967000</td>\n",
       "      <td>110.26</td>\n",
       "    </tr>\n",
       "    <tr>\n",
       "      <th>2008-10-10</th>\n",
       "      <td>85.70</td>\n",
       "      <td>100.00</td>\n",
       "      <td>85.00</td>\n",
       "      <td>96.80</td>\n",
       "      <td>79260700</td>\n",
       "      <td>96.80</td>\n",
       "    </tr>\n",
       "    <tr>\n",
       "      <th>2008-10-09</th>\n",
       "      <td>93.35</td>\n",
       "      <td>95.80</td>\n",
       "      <td>86.60</td>\n",
       "      <td>88.74</td>\n",
       "      <td>57763700</td>\n",
       "      <td>88.74</td>\n",
       "    </tr>\n",
       "    <tr>\n",
       "      <th>2008-10-08</th>\n",
       "      <td>85.91</td>\n",
       "      <td>96.33</td>\n",
       "      <td>85.68</td>\n",
       "      <td>89.79</td>\n",
       "      <td>78847900</td>\n",
       "      <td>89.79</td>\n",
       "    </tr>\n",
       "  </tbody>\n",
       "</table>\n",
       "</div>"
      ],
      "text/plain": [
       "              Open    High     Low   Close    Volume  Adj Close\n",
       "Date                                                           \n",
       "2008-10-14  116.26  116.40  103.14  104.08  70749800     104.08\n",
       "2008-10-13  104.55  110.53  101.02  110.26  54967000     110.26\n",
       "2008-10-10   85.70  100.00   85.00   96.80  79260700      96.80\n",
       "2008-10-09   93.35   95.80   86.60   88.74  57763700      88.74\n",
       "2008-10-08   85.91   96.33   85.68   89.79  78847900      89.79"
      ]
     },
     "execution_count": 198,
     "metadata": {},
     "output_type": "execute_result"
    }
   ],
   "source": [
    "## SETTING DATE INDEX\n",
    "\n",
    "apple.set_index('Date',inplace=True)\n",
    "apple.info()\n",
    "apple.head()"
   ]
  },
  {
   "cell_type": "code",
   "execution_count": 239,
   "metadata": {},
   "outputs": [
    {
     "data": {
      "text/html": [
       "<div>\n",
       "<style>\n",
       "    .dataframe thead tr:only-child th {\n",
       "        text-align: right;\n",
       "    }\n",
       "\n",
       "    .dataframe thead th {\n",
       "        text-align: left;\n",
       "    }\n",
       "\n",
       "    .dataframe tbody tr th {\n",
       "        vertical-align: top;\n",
       "    }\n",
       "</style>\n",
       "<table border=\"1\" class=\"dataframe\">\n",
       "  <thead>\n",
       "    <tr style=\"text-align: right;\">\n",
       "      <th></th>\n",
       "      <th>Open</th>\n",
       "      <th>High</th>\n",
       "      <th>Low</th>\n",
       "      <th>Close</th>\n",
       "      <th>Volume</th>\n",
       "      <th>Adj Close</th>\n",
       "      <th>shifted</th>\n",
       "      <th>%change</th>\n",
       "    </tr>\n",
       "    <tr>\n",
       "      <th>Date</th>\n",
       "      <th></th>\n",
       "      <th></th>\n",
       "      <th></th>\n",
       "      <th></th>\n",
       "      <th></th>\n",
       "      <th></th>\n",
       "      <th></th>\n",
       "      <th></th>\n",
       "    </tr>\n",
       "  </thead>\n",
       "  <tbody>\n",
       "    <tr>\n",
       "      <th>2008-10-14</th>\n",
       "      <td>116.26</td>\n",
       "      <td>116.40</td>\n",
       "      <td>103.14</td>\n",
       "      <td>104.08</td>\n",
       "      <td>70749800</td>\n",
       "      <td>104.08</td>\n",
       "      <td>NaN</td>\n",
       "      <td>NaN</td>\n",
       "    </tr>\n",
       "    <tr>\n",
       "      <th>2008-10-13</th>\n",
       "      <td>104.55</td>\n",
       "      <td>110.53</td>\n",
       "      <td>101.02</td>\n",
       "      <td>110.26</td>\n",
       "      <td>54967000</td>\n",
       "      <td>110.26</td>\n",
       "      <td>116.26</td>\n",
       "      <td>5.937740</td>\n",
       "    </tr>\n",
       "    <tr>\n",
       "      <th>2008-10-10</th>\n",
       "      <td>85.70</td>\n",
       "      <td>100.00</td>\n",
       "      <td>85.00</td>\n",
       "      <td>96.80</td>\n",
       "      <td>79260700</td>\n",
       "      <td>96.80</td>\n",
       "      <td>104.55</td>\n",
       "      <td>-12.207510</td>\n",
       "    </tr>\n",
       "    <tr>\n",
       "      <th>2008-10-09</th>\n",
       "      <td>93.35</td>\n",
       "      <td>95.80</td>\n",
       "      <td>86.60</td>\n",
       "      <td>88.74</td>\n",
       "      <td>57763700</td>\n",
       "      <td>88.74</td>\n",
       "      <td>85.70</td>\n",
       "      <td>-8.326446</td>\n",
       "    </tr>\n",
       "    <tr>\n",
       "      <th>2008-10-08</th>\n",
       "      <td>85.91</td>\n",
       "      <td>96.33</td>\n",
       "      <td>85.68</td>\n",
       "      <td>89.79</td>\n",
       "      <td>78847900</td>\n",
       "      <td>89.79</td>\n",
       "      <td>93.35</td>\n",
       "      <td>1.183232</td>\n",
       "    </tr>\n",
       "  </tbody>\n",
       "</table>\n",
       "</div>"
      ],
      "text/plain": [
       "              Open    High     Low   Close    Volume  Adj Close  shifted  \\\n",
       "Date                                                                       \n",
       "2008-10-14  116.26  116.40  103.14  104.08  70749800     104.08      NaN   \n",
       "2008-10-13  104.55  110.53  101.02  110.26  54967000     110.26   116.26   \n",
       "2008-10-10   85.70  100.00   85.00   96.80  79260700      96.80   104.55   \n",
       "2008-10-09   93.35   95.80   86.60   88.74  57763700      88.74    85.70   \n",
       "2008-10-08   85.91   96.33   85.68   89.79  78847900      89.79    93.35   \n",
       "\n",
       "              %change  \n",
       "Date                   \n",
       "2008-10-14        NaN  \n",
       "2008-10-13   5.937740  \n",
       "2008-10-10 -12.207510  \n",
       "2008-10-09  -8.326446  \n",
       "2008-10-08   1.183232  "
      ]
     },
     "execution_count": 239,
     "metadata": {},
     "output_type": "execute_result"
    }
   ],
   "source": [
    "apple['Adj Close'].plot(title='Closing price')\n",
    "plt.tight_layout()\n",
    "#plt.show()\n",
    "apple['%change']=apple['Adj Close'].pct_change().mul(100)\n",
    "apple.head()"
   ]
  },
  {
   "cell_type": "code",
   "execution_count": 203,
   "metadata": {},
   "outputs": [
    {
     "name": "stdout",
     "output_type": "stream",
     "text": [
      "<class 'pandas.core.frame.DataFrame'>\n",
      "DatetimeIndex: 252 entries, 2000-12-29 to 2000-01-03\n",
      "Data columns (total 6 columns):\n",
      "Open         252 non-null float64\n",
      "High         252 non-null float64\n",
      "Low          252 non-null float64\n",
      "Close        252 non-null float64\n",
      "Volume       252 non-null int64\n",
      "Adj Close    252 non-null float64\n",
      "dtypes: float64(5), int64(1)\n",
      "memory usage: 13.8 KB\n",
      "<class 'pandas.core.frame.DataFrame'>\n",
      "DatetimeIndex: 65 entries, 2000-10-31 to 2000-08-01\n",
      "Data columns (total 6 columns):\n",
      "Open         65 non-null float64\n",
      "High         65 non-null float64\n",
      "Low          65 non-null float64\n",
      "Close        65 non-null float64\n",
      "Volume       65 non-null int64\n",
      "Adj Close    65 non-null float64\n",
      "dtypes: float64(5), int64(1)\n",
      "memory usage: 3.6 KB\n"
     ]
    }
   ],
   "source": [
    "## SUBSET OF DATE METHODS\n",
    "\n",
    "apple['2000'].info()\n",
    "apple['2000-10':'2000-08'].info()\n",
    "#apple.loc['2005-10','High']"
   ]
  },
  {
   "cell_type": "code",
   "execution_count": 247,
   "metadata": {},
   "outputs": [
    {
     "name": "stdout",
     "output_type": "stream",
     "text": [
      "<class 'pandas.core.frame.DataFrame'>\n",
      "RangeIndex: 6081 entries, 0 to 6080\n",
      "Data columns (total 7 columns):\n",
      "Date         6081 non-null object\n",
      "Open         6081 non-null float64\n",
      "High         6081 non-null float64\n",
      "Low          6081 non-null float64\n",
      "Close        6081 non-null float64\n",
      "Volume       6081 non-null int64\n",
      "Adj Close    6081 non-null float64\n",
      "dtypes: float64(5), int64(1), object(1)\n",
      "memory usage: 332.6+ KB\n"
     ]
    },
    {
     "data": {
      "text/html": [
       "<div>\n",
       "<style>\n",
       "    .dataframe thead tr:only-child th {\n",
       "        text-align: right;\n",
       "    }\n",
       "\n",
       "    .dataframe thead th {\n",
       "        text-align: left;\n",
       "    }\n",
       "\n",
       "    .dataframe tbody tr th {\n",
       "        vertical-align: top;\n",
       "    }\n",
       "</style>\n",
       "<table border=\"1\" class=\"dataframe\">\n",
       "  <thead>\n",
       "    <tr style=\"text-align: right;\">\n",
       "      <th></th>\n",
       "      <th>Date</th>\n",
       "      <th>Open</th>\n",
       "      <th>High</th>\n",
       "      <th>Low</th>\n",
       "      <th>Close</th>\n",
       "      <th>Volume</th>\n",
       "      <th>Adj Close</th>\n",
       "    </tr>\n",
       "  </thead>\n",
       "  <tbody>\n",
       "    <tr>\n",
       "      <th>0</th>\n",
       "      <td>2008-10-14</td>\n",
       "      <td>116.26</td>\n",
       "      <td>116.40</td>\n",
       "      <td>103.14</td>\n",
       "      <td>104.08</td>\n",
       "      <td>70749800</td>\n",
       "      <td>104.08</td>\n",
       "    </tr>\n",
       "    <tr>\n",
       "      <th>1</th>\n",
       "      <td>2008-10-13</td>\n",
       "      <td>104.55</td>\n",
       "      <td>110.53</td>\n",
       "      <td>101.02</td>\n",
       "      <td>110.26</td>\n",
       "      <td>54967000</td>\n",
       "      <td>110.26</td>\n",
       "    </tr>\n",
       "    <tr>\n",
       "      <th>2</th>\n",
       "      <td>2008-10-10</td>\n",
       "      <td>85.70</td>\n",
       "      <td>100.00</td>\n",
       "      <td>85.00</td>\n",
       "      <td>96.80</td>\n",
       "      <td>79260700</td>\n",
       "      <td>96.80</td>\n",
       "    </tr>\n",
       "    <tr>\n",
       "      <th>3</th>\n",
       "      <td>2008-10-09</td>\n",
       "      <td>93.35</td>\n",
       "      <td>95.80</td>\n",
       "      <td>86.60</td>\n",
       "      <td>88.74</td>\n",
       "      <td>57763700</td>\n",
       "      <td>88.74</td>\n",
       "    </tr>\n",
       "    <tr>\n",
       "      <th>4</th>\n",
       "      <td>2008-10-08</td>\n",
       "      <td>85.91</td>\n",
       "      <td>96.33</td>\n",
       "      <td>85.68</td>\n",
       "      <td>89.79</td>\n",
       "      <td>78847900</td>\n",
       "      <td>89.79</td>\n",
       "    </tr>\n",
       "  </tbody>\n",
       "</table>\n",
       "</div>"
      ],
      "text/plain": [
       "         Date    Open    High     Low   Close    Volume  Adj Close\n",
       "0  2008-10-14  116.26  116.40  103.14  104.08  70749800     104.08\n",
       "1  2008-10-13  104.55  110.53  101.02  110.26  54967000     110.26\n",
       "2  2008-10-10   85.70  100.00   85.00   96.80  79260700      96.80\n",
       "3  2008-10-09   93.35   95.80   86.60   88.74  57763700      88.74\n",
       "4  2008-10-08   85.91   96.33   85.68   89.79  78847900      89.79"
      ]
     },
     "execution_count": 247,
     "metadata": {},
     "output_type": "execute_result"
    }
   ],
   "source": [
    "## Another file, apple only used here to show another parse method\n",
    "\n",
    "data=pd.read_csv('aapl.csv')\n",
    "apple1=pd.DataFrame(data)\n",
    "apple1.info()\n",
    "apple1.head()"
   ]
  },
  {
   "cell_type": "markdown",
   "metadata": {},
   "source": [
    "# DATE TIME PARSE INDEXING"
   ]
  },
  {
   "cell_type": "code",
   "execution_count": 286,
   "metadata": {},
   "outputs": [
    {
     "name": "stdout",
     "output_type": "stream",
     "text": [
      "<class 'pandas.core.frame.DataFrame'>\n",
      "DatetimeIndex: 6081 entries, 2008-10-14 to 1984-09-07\n",
      "Data columns (total 6 columns):\n",
      "Open         6081 non-null float64\n",
      "High         6081 non-null float64\n",
      "Low          6081 non-null float64\n",
      "Close        6081 non-null float64\n",
      "Volume       6081 non-null int64\n",
      "Adj Close    6081 non-null float64\n",
      "dtypes: float64(5), int64(1)\n",
      "memory usage: 332.6 KB\n"
     ]
    },
    {
     "data": {
      "text/html": [
       "<div>\n",
       "<style>\n",
       "    .dataframe thead tr:only-child th {\n",
       "        text-align: right;\n",
       "    }\n",
       "\n",
       "    .dataframe thead th {\n",
       "        text-align: left;\n",
       "    }\n",
       "\n",
       "    .dataframe tbody tr th {\n",
       "        vertical-align: top;\n",
       "    }\n",
       "</style>\n",
       "<table border=\"1\" class=\"dataframe\">\n",
       "  <thead>\n",
       "    <tr style=\"text-align: right;\">\n",
       "      <th></th>\n",
       "      <th>Open</th>\n",
       "      <th>High</th>\n",
       "      <th>Low</th>\n",
       "      <th>Close</th>\n",
       "      <th>Volume</th>\n",
       "      <th>Adj Close</th>\n",
       "    </tr>\n",
       "    <tr>\n",
       "      <th>Date</th>\n",
       "      <th></th>\n",
       "      <th></th>\n",
       "      <th></th>\n",
       "      <th></th>\n",
       "      <th></th>\n",
       "      <th></th>\n",
       "    </tr>\n",
       "  </thead>\n",
       "  <tbody>\n",
       "    <tr>\n",
       "      <th>2008-10-14</th>\n",
       "      <td>116.26</td>\n",
       "      <td>116.40</td>\n",
       "      <td>103.14</td>\n",
       "      <td>104.08</td>\n",
       "      <td>70749800</td>\n",
       "      <td>104.08</td>\n",
       "    </tr>\n",
       "    <tr>\n",
       "      <th>2008-10-13</th>\n",
       "      <td>104.55</td>\n",
       "      <td>110.53</td>\n",
       "      <td>101.02</td>\n",
       "      <td>110.26</td>\n",
       "      <td>54967000</td>\n",
       "      <td>110.26</td>\n",
       "    </tr>\n",
       "    <tr>\n",
       "      <th>2008-10-10</th>\n",
       "      <td>85.70</td>\n",
       "      <td>100.00</td>\n",
       "      <td>85.00</td>\n",
       "      <td>96.80</td>\n",
       "      <td>79260700</td>\n",
       "      <td>96.80</td>\n",
       "    </tr>\n",
       "    <tr>\n",
       "      <th>2008-10-09</th>\n",
       "      <td>93.35</td>\n",
       "      <td>95.80</td>\n",
       "      <td>86.60</td>\n",
       "      <td>88.74</td>\n",
       "      <td>57763700</td>\n",
       "      <td>88.74</td>\n",
       "    </tr>\n",
       "    <tr>\n",
       "      <th>2008-10-08</th>\n",
       "      <td>85.91</td>\n",
       "      <td>96.33</td>\n",
       "      <td>85.68</td>\n",
       "      <td>89.79</td>\n",
       "      <td>78847900</td>\n",
       "      <td>89.79</td>\n",
       "    </tr>\n",
       "  </tbody>\n",
       "</table>\n",
       "</div>"
      ],
      "text/plain": [
       "              Open    High     Low   Close    Volume  Adj Close\n",
       "Date                                                           \n",
       "2008-10-14  116.26  116.40  103.14  104.08  70749800     104.08\n",
       "2008-10-13  104.55  110.53  101.02  110.26  54967000     110.26\n",
       "2008-10-10   85.70  100.00   85.00   96.80  79260700      96.80\n",
       "2008-10-09   93.35   95.80   86.60   88.74  57763700      88.74\n",
       "2008-10-08   85.91   96.33   85.68   89.79  78847900      89.79"
      ]
     },
     "execution_count": 286,
     "metadata": {},
     "output_type": "execute_result"
    }
   ],
   "source": [
    "apple1=pd.read_csv('aapl.csv',parse_dates=['Date'],index_col='Date')\n",
    "apple1.info()\n",
    "apple1.head()"
   ]
  },
  {
   "cell_type": "markdown",
   "metadata": {},
   "source": [
    "# DATA ANALYSIS"
   ]
  },
  {
   "cell_type": "code",
   "execution_count": 431,
   "metadata": {},
   "outputs": [
    {
     "data": {
      "text/html": [
       "<div>\n",
       "<style>\n",
       "    .dataframe thead tr:only-child th {\n",
       "        text-align: right;\n",
       "    }\n",
       "\n",
       "    .dataframe thead th {\n",
       "        text-align: left;\n",
       "    }\n",
       "\n",
       "    .dataframe tbody tr th {\n",
       "        vertical-align: top;\n",
       "    }\n",
       "</style>\n",
       "<table border=\"1\" class=\"dataframe\">\n",
       "  <thead>\n",
       "    <tr style=\"text-align: right;\">\n",
       "      <th></th>\n",
       "      <th>Open</th>\n",
       "      <th>High</th>\n",
       "      <th>Low</th>\n",
       "      <th>Close</th>\n",
       "      <th>Volume</th>\n",
       "      <th>Adj Close</th>\n",
       "      <th>normalized</th>\n",
       "      <th>shifted</th>\n",
       "      <th>lagged</th>\n",
       "    </tr>\n",
       "    <tr>\n",
       "      <th>Date</th>\n",
       "      <th></th>\n",
       "      <th></th>\n",
       "      <th></th>\n",
       "      <th></th>\n",
       "      <th></th>\n",
       "      <th></th>\n",
       "      <th></th>\n",
       "      <th></th>\n",
       "      <th></th>\n",
       "    </tr>\n",
       "  </thead>\n",
       "  <tbody>\n",
       "    <tr>\n",
       "      <th>2008-10-14</th>\n",
       "      <td>116.26</td>\n",
       "      <td>116.40</td>\n",
       "      <td>103.14</td>\n",
       "      <td>104.08</td>\n",
       "      <td>70749800</td>\n",
       "      <td>104.08</td>\n",
       "      <td>1.000000</td>\n",
       "      <td>NaN</td>\n",
       "      <td>116.26</td>\n",
       "    </tr>\n",
       "    <tr>\n",
       "      <th>2008-10-13</th>\n",
       "      <td>104.55</td>\n",
       "      <td>110.53</td>\n",
       "      <td>101.02</td>\n",
       "      <td>110.26</td>\n",
       "      <td>54967000</td>\n",
       "      <td>110.26</td>\n",
       "      <td>1.059377</td>\n",
       "      <td>116.26</td>\n",
       "      <td>104.55</td>\n",
       "    </tr>\n",
       "    <tr>\n",
       "      <th>2008-10-10</th>\n",
       "      <td>85.70</td>\n",
       "      <td>100.00</td>\n",
       "      <td>85.00</td>\n",
       "      <td>96.80</td>\n",
       "      <td>79260700</td>\n",
       "      <td>96.80</td>\n",
       "      <td>0.930054</td>\n",
       "      <td>104.55</td>\n",
       "      <td>85.70</td>\n",
       "    </tr>\n",
       "    <tr>\n",
       "      <th>2008-10-09</th>\n",
       "      <td>93.35</td>\n",
       "      <td>95.80</td>\n",
       "      <td>86.60</td>\n",
       "      <td>88.74</td>\n",
       "      <td>57763700</td>\n",
       "      <td>88.74</td>\n",
       "      <td>0.852613</td>\n",
       "      <td>85.70</td>\n",
       "      <td>93.35</td>\n",
       "    </tr>\n",
       "    <tr>\n",
       "      <th>2008-10-08</th>\n",
       "      <td>85.91</td>\n",
       "      <td>96.33</td>\n",
       "      <td>85.68</td>\n",
       "      <td>89.79</td>\n",
       "      <td>78847900</td>\n",
       "      <td>89.79</td>\n",
       "      <td>0.862702</td>\n",
       "      <td>93.35</td>\n",
       "      <td>85.91</td>\n",
       "    </tr>\n",
       "  </tbody>\n",
       "</table>\n",
       "</div>"
      ],
      "text/plain": [
       "              Open    High     Low   Close    Volume  Adj Close  normalized  \\\n",
       "Date                                                                          \n",
       "2008-10-14  116.26  116.40  103.14  104.08  70749800     104.08    1.000000   \n",
       "2008-10-13  104.55  110.53  101.02  110.26  54967000     110.26    1.059377   \n",
       "2008-10-10   85.70  100.00   85.00   96.80  79260700      96.80    0.930054   \n",
       "2008-10-09   93.35   95.80   86.60   88.74  57763700      88.74    0.852613   \n",
       "2008-10-08   85.91   96.33   85.68   89.79  78847900      89.79    0.862702   \n",
       "\n",
       "            shifted  lagged  \n",
       "Date                         \n",
       "2008-10-14      NaN  116.26  \n",
       "2008-10-13   116.26  104.55  \n",
       "2008-10-10   104.55   85.70  \n",
       "2008-10-09    85.70   93.35  \n",
       "2008-10-08    93.35   85.91  "
      ]
     },
     "execution_count": 431,
     "metadata": {},
     "output_type": "execute_result"
    }
   ],
   "source": [
    "## Shifting time\n",
    "\n",
    "apple1['shifted']=apple1.Open.shift()\n",
    "apple1.head()\n",
    "apple1['lagged']=apple1.shifted.shift(periods=-1)\n",
    "apple1.head()"
   ]
  },
  {
   "cell_type": "code",
   "execution_count": 432,
   "metadata": {},
   "outputs": [
    {
     "data": {
      "text/html": [
       "<div>\n",
       "<style>\n",
       "    .dataframe thead tr:only-child th {\n",
       "        text-align: right;\n",
       "    }\n",
       "\n",
       "    .dataframe thead th {\n",
       "        text-align: left;\n",
       "    }\n",
       "\n",
       "    .dataframe tbody tr th {\n",
       "        vertical-align: top;\n",
       "    }\n",
       "</style>\n",
       "<table border=\"1\" class=\"dataframe\">\n",
       "  <thead>\n",
       "    <tr style=\"text-align: right;\">\n",
       "      <th></th>\n",
       "      <th>Open</th>\n",
       "      <th>High</th>\n",
       "      <th>Low</th>\n",
       "      <th>Close</th>\n",
       "      <th>Volume</th>\n",
       "      <th>Adj Close</th>\n",
       "      <th>normalized</th>\n",
       "      <th>shifted</th>\n",
       "      <th>lagged</th>\n",
       "      <th>change</th>\n",
       "    </tr>\n",
       "    <tr>\n",
       "      <th>Date</th>\n",
       "      <th></th>\n",
       "      <th></th>\n",
       "      <th></th>\n",
       "      <th></th>\n",
       "      <th></th>\n",
       "      <th></th>\n",
       "      <th></th>\n",
       "      <th></th>\n",
       "      <th></th>\n",
       "      <th></th>\n",
       "    </tr>\n",
       "  </thead>\n",
       "  <tbody>\n",
       "    <tr>\n",
       "      <th>2008-10-14</th>\n",
       "      <td>116.26</td>\n",
       "      <td>116.40</td>\n",
       "      <td>103.14</td>\n",
       "      <td>104.08</td>\n",
       "      <td>70749800</td>\n",
       "      <td>104.08</td>\n",
       "      <td>1.000000</td>\n",
       "      <td>NaN</td>\n",
       "      <td>116.26</td>\n",
       "      <td>NaN</td>\n",
       "    </tr>\n",
       "    <tr>\n",
       "      <th>2008-10-13</th>\n",
       "      <td>104.55</td>\n",
       "      <td>110.53</td>\n",
       "      <td>101.02</td>\n",
       "      <td>110.26</td>\n",
       "      <td>54967000</td>\n",
       "      <td>110.26</td>\n",
       "      <td>1.059377</td>\n",
       "      <td>116.26</td>\n",
       "      <td>104.55</td>\n",
       "      <td>0.899277</td>\n",
       "    </tr>\n",
       "    <tr>\n",
       "      <th>2008-10-10</th>\n",
       "      <td>85.70</td>\n",
       "      <td>100.00</td>\n",
       "      <td>85.00</td>\n",
       "      <td>96.80</td>\n",
       "      <td>79260700</td>\n",
       "      <td>96.80</td>\n",
       "      <td>0.930054</td>\n",
       "      <td>104.55</td>\n",
       "      <td>85.70</td>\n",
       "      <td>0.819703</td>\n",
       "    </tr>\n",
       "    <tr>\n",
       "      <th>2008-10-09</th>\n",
       "      <td>93.35</td>\n",
       "      <td>95.80</td>\n",
       "      <td>86.60</td>\n",
       "      <td>88.74</td>\n",
       "      <td>57763700</td>\n",
       "      <td>88.74</td>\n",
       "      <td>0.852613</td>\n",
       "      <td>85.70</td>\n",
       "      <td>93.35</td>\n",
       "      <td>1.089265</td>\n",
       "    </tr>\n",
       "    <tr>\n",
       "      <th>2008-10-08</th>\n",
       "      <td>85.91</td>\n",
       "      <td>96.33</td>\n",
       "      <td>85.68</td>\n",
       "      <td>89.79</td>\n",
       "      <td>78847900</td>\n",
       "      <td>89.79</td>\n",
       "      <td>0.862702</td>\n",
       "      <td>93.35</td>\n",
       "      <td>85.91</td>\n",
       "      <td>0.920300</td>\n",
       "    </tr>\n",
       "  </tbody>\n",
       "</table>\n",
       "</div>"
      ],
      "text/plain": [
       "              Open    High     Low   Close    Volume  Adj Close  normalized  \\\n",
       "Date                                                                          \n",
       "2008-10-14  116.26  116.40  103.14  104.08  70749800     104.08    1.000000   \n",
       "2008-10-13  104.55  110.53  101.02  110.26  54967000     110.26    1.059377   \n",
       "2008-10-10   85.70  100.00   85.00   96.80  79260700      96.80    0.930054   \n",
       "2008-10-09   93.35   95.80   86.60   88.74  57763700      88.74    0.852613   \n",
       "2008-10-08   85.91   96.33   85.68   89.79  78847900      89.79    0.862702   \n",
       "\n",
       "            shifted  lagged    change  \n",
       "Date                                   \n",
       "2008-10-14      NaN  116.26       NaN  \n",
       "2008-10-13   116.26  104.55  0.899277  \n",
       "2008-10-10   104.55   85.70  0.819703  \n",
       "2008-10-09    85.70   93.35  1.089265  \n",
       "2008-10-08    93.35   85.91  0.920300  "
      ]
     },
     "execution_count": 432,
     "metadata": {},
     "output_type": "execute_result"
    }
   ],
   "source": [
    "apple1['change']=apple1.Open.div(apple1.shifted)   #div open by shifted to calc rate of change\n",
    "apple1.head()"
   ]
  },
  {
   "cell_type": "code",
   "execution_count": 433,
   "metadata": {},
   "outputs": [
    {
     "data": {
      "text/html": [
       "<div>\n",
       "<style>\n",
       "    .dataframe thead tr:only-child th {\n",
       "        text-align: right;\n",
       "    }\n",
       "\n",
       "    .dataframe thead th {\n",
       "        text-align: left;\n",
       "    }\n",
       "\n",
       "    .dataframe tbody tr th {\n",
       "        vertical-align: top;\n",
       "    }\n",
       "</style>\n",
       "<table border=\"1\" class=\"dataframe\">\n",
       "  <thead>\n",
       "    <tr style=\"text-align: right;\">\n",
       "      <th></th>\n",
       "      <th>Open</th>\n",
       "      <th>High</th>\n",
       "      <th>Low</th>\n",
       "      <th>Close</th>\n",
       "      <th>Volume</th>\n",
       "      <th>Adj Close</th>\n",
       "      <th>normalized</th>\n",
       "      <th>shifted</th>\n",
       "      <th>lagged</th>\n",
       "      <th>change</th>\n",
       "      <th>return</th>\n",
       "    </tr>\n",
       "    <tr>\n",
       "      <th>Date</th>\n",
       "      <th></th>\n",
       "      <th></th>\n",
       "      <th></th>\n",
       "      <th></th>\n",
       "      <th></th>\n",
       "      <th></th>\n",
       "      <th></th>\n",
       "      <th></th>\n",
       "      <th></th>\n",
       "      <th></th>\n",
       "      <th></th>\n",
       "    </tr>\n",
       "  </thead>\n",
       "  <tbody>\n",
       "    <tr>\n",
       "      <th>2008-10-14</th>\n",
       "      <td>116.26</td>\n",
       "      <td>116.40</td>\n",
       "      <td>103.14</td>\n",
       "      <td>104.08</td>\n",
       "      <td>70749800</td>\n",
       "      <td>104.08</td>\n",
       "      <td>1.000000</td>\n",
       "      <td>NaN</td>\n",
       "      <td>116.26</td>\n",
       "      <td>NaN</td>\n",
       "      <td>NaN</td>\n",
       "    </tr>\n",
       "    <tr>\n",
       "      <th>2008-10-13</th>\n",
       "      <td>104.55</td>\n",
       "      <td>110.53</td>\n",
       "      <td>101.02</td>\n",
       "      <td>110.26</td>\n",
       "      <td>54967000</td>\n",
       "      <td>110.26</td>\n",
       "      <td>1.059377</td>\n",
       "      <td>116.26</td>\n",
       "      <td>104.55</td>\n",
       "      <td>0.899277</td>\n",
       "      <td>-10.072252</td>\n",
       "    </tr>\n",
       "    <tr>\n",
       "      <th>2008-10-10</th>\n",
       "      <td>85.70</td>\n",
       "      <td>100.00</td>\n",
       "      <td>85.00</td>\n",
       "      <td>96.80</td>\n",
       "      <td>79260700</td>\n",
       "      <td>96.80</td>\n",
       "      <td>0.930054</td>\n",
       "      <td>104.55</td>\n",
       "      <td>85.70</td>\n",
       "      <td>0.819703</td>\n",
       "      <td>-18.029651</td>\n",
       "    </tr>\n",
       "    <tr>\n",
       "      <th>2008-10-09</th>\n",
       "      <td>93.35</td>\n",
       "      <td>95.80</td>\n",
       "      <td>86.60</td>\n",
       "      <td>88.74</td>\n",
       "      <td>57763700</td>\n",
       "      <td>88.74</td>\n",
       "      <td>0.852613</td>\n",
       "      <td>85.70</td>\n",
       "      <td>93.35</td>\n",
       "      <td>1.089265</td>\n",
       "      <td>8.926488</td>\n",
       "    </tr>\n",
       "    <tr>\n",
       "      <th>2008-10-08</th>\n",
       "      <td>85.91</td>\n",
       "      <td>96.33</td>\n",
       "      <td>85.68</td>\n",
       "      <td>89.79</td>\n",
       "      <td>78847900</td>\n",
       "      <td>89.79</td>\n",
       "      <td>0.862702</td>\n",
       "      <td>93.35</td>\n",
       "      <td>85.91</td>\n",
       "      <td>0.920300</td>\n",
       "      <td>-7.970005</td>\n",
       "    </tr>\n",
       "  </tbody>\n",
       "</table>\n",
       "</div>"
      ],
      "text/plain": [
       "              Open    High     Low   Close    Volume  Adj Close  normalized  \\\n",
       "Date                                                                          \n",
       "2008-10-14  116.26  116.40  103.14  104.08  70749800     104.08    1.000000   \n",
       "2008-10-13  104.55  110.53  101.02  110.26  54967000     110.26    1.059377   \n",
       "2008-10-10   85.70  100.00   85.00   96.80  79260700      96.80    0.930054   \n",
       "2008-10-09   93.35   95.80   86.60   88.74  57763700      88.74    0.852613   \n",
       "2008-10-08   85.91   96.33   85.68   89.79  78847900      89.79    0.862702   \n",
       "\n",
       "            shifted  lagged    change     return  \n",
       "Date                                              \n",
       "2008-10-14      NaN  116.26       NaN        NaN  \n",
       "2008-10-13   116.26  104.55  0.899277 -10.072252  \n",
       "2008-10-10   104.55   85.70  0.819703 -18.029651  \n",
       "2008-10-09    85.70   93.35  1.089265   8.926488  \n",
       "2008-10-08    93.35   85.91  0.920300  -7.970005  "
      ]
     },
     "execution_count": 433,
     "metadata": {},
     "output_type": "execute_result"
    }
   ],
   "source": [
    "apple1['return']=apple1.change.sub(1).mul(100)   #rate of return = xt/x - 1*100\n",
    "apple1.head()"
   ]
  },
  {
   "cell_type": "code",
   "execution_count": 434,
   "metadata": {},
   "outputs": [
    {
     "data": {
      "text/html": [
       "<div>\n",
       "<style>\n",
       "    .dataframe thead tr:only-child th {\n",
       "        text-align: right;\n",
       "    }\n",
       "\n",
       "    .dataframe thead th {\n",
       "        text-align: left;\n",
       "    }\n",
       "\n",
       "    .dataframe tbody tr th {\n",
       "        vertical-align: top;\n",
       "    }\n",
       "</style>\n",
       "<table border=\"1\" class=\"dataframe\">\n",
       "  <thead>\n",
       "    <tr style=\"text-align: right;\">\n",
       "      <th></th>\n",
       "      <th>Open</th>\n",
       "      <th>High</th>\n",
       "      <th>Low</th>\n",
       "      <th>Close</th>\n",
       "      <th>Volume</th>\n",
       "      <th>Adj Close</th>\n",
       "      <th>normalized</th>\n",
       "      <th>shifted</th>\n",
       "      <th>lagged</th>\n",
       "      <th>change</th>\n",
       "      <th>return</th>\n",
       "      <th>Diff</th>\n",
       "      <th>Return</th>\n",
       "    </tr>\n",
       "    <tr>\n",
       "      <th>Date</th>\n",
       "      <th></th>\n",
       "      <th></th>\n",
       "      <th></th>\n",
       "      <th></th>\n",
       "      <th></th>\n",
       "      <th></th>\n",
       "      <th></th>\n",
       "      <th></th>\n",
       "      <th></th>\n",
       "      <th></th>\n",
       "      <th></th>\n",
       "      <th></th>\n",
       "      <th></th>\n",
       "    </tr>\n",
       "  </thead>\n",
       "  <tbody>\n",
       "    <tr>\n",
       "      <th>2008-10-14</th>\n",
       "      <td>116.26</td>\n",
       "      <td>116.40</td>\n",
       "      <td>103.14</td>\n",
       "      <td>104.08</td>\n",
       "      <td>70749800</td>\n",
       "      <td>104.08</td>\n",
       "      <td>1.000000</td>\n",
       "      <td>NaN</td>\n",
       "      <td>116.26</td>\n",
       "      <td>NaN</td>\n",
       "      <td>NaN</td>\n",
       "      <td>NaN</td>\n",
       "      <td>NaN</td>\n",
       "    </tr>\n",
       "    <tr>\n",
       "      <th>2008-10-13</th>\n",
       "      <td>104.55</td>\n",
       "      <td>110.53</td>\n",
       "      <td>101.02</td>\n",
       "      <td>110.26</td>\n",
       "      <td>54967000</td>\n",
       "      <td>110.26</td>\n",
       "      <td>1.059377</td>\n",
       "      <td>116.26</td>\n",
       "      <td>104.55</td>\n",
       "      <td>0.899277</td>\n",
       "      <td>-10.072252</td>\n",
       "      <td>-11.71</td>\n",
       "      <td>-10.072252</td>\n",
       "    </tr>\n",
       "    <tr>\n",
       "      <th>2008-10-10</th>\n",
       "      <td>85.70</td>\n",
       "      <td>100.00</td>\n",
       "      <td>85.00</td>\n",
       "      <td>96.80</td>\n",
       "      <td>79260700</td>\n",
       "      <td>96.80</td>\n",
       "      <td>0.930054</td>\n",
       "      <td>104.55</td>\n",
       "      <td>85.70</td>\n",
       "      <td>0.819703</td>\n",
       "      <td>-18.029651</td>\n",
       "      <td>-18.85</td>\n",
       "      <td>-18.029651</td>\n",
       "    </tr>\n",
       "    <tr>\n",
       "      <th>2008-10-09</th>\n",
       "      <td>93.35</td>\n",
       "      <td>95.80</td>\n",
       "      <td>86.60</td>\n",
       "      <td>88.74</td>\n",
       "      <td>57763700</td>\n",
       "      <td>88.74</td>\n",
       "      <td>0.852613</td>\n",
       "      <td>85.70</td>\n",
       "      <td>93.35</td>\n",
       "      <td>1.089265</td>\n",
       "      <td>8.926488</td>\n",
       "      <td>7.65</td>\n",
       "      <td>8.926488</td>\n",
       "    </tr>\n",
       "    <tr>\n",
       "      <th>2008-10-08</th>\n",
       "      <td>85.91</td>\n",
       "      <td>96.33</td>\n",
       "      <td>85.68</td>\n",
       "      <td>89.79</td>\n",
       "      <td>78847900</td>\n",
       "      <td>89.79</td>\n",
       "      <td>0.862702</td>\n",
       "      <td>93.35</td>\n",
       "      <td>85.91</td>\n",
       "      <td>0.920300</td>\n",
       "      <td>-7.970005</td>\n",
       "      <td>-7.44</td>\n",
       "      <td>-7.970005</td>\n",
       "    </tr>\n",
       "  </tbody>\n",
       "</table>\n",
       "</div>"
      ],
      "text/plain": [
       "              Open    High     Low   Close    Volume  Adj Close  normalized  \\\n",
       "Date                                                                          \n",
       "2008-10-14  116.26  116.40  103.14  104.08  70749800     104.08    1.000000   \n",
       "2008-10-13  104.55  110.53  101.02  110.26  54967000     110.26    1.059377   \n",
       "2008-10-10   85.70  100.00   85.00   96.80  79260700      96.80    0.930054   \n",
       "2008-10-09   93.35   95.80   86.60   88.74  57763700      88.74    0.852613   \n",
       "2008-10-08   85.91   96.33   85.68   89.79  78847900      89.79    0.862702   \n",
       "\n",
       "            shifted  lagged    change     return   Diff     Return  \n",
       "Date                                                                \n",
       "2008-10-14      NaN  116.26       NaN        NaN    NaN        NaN  \n",
       "2008-10-13   116.26  104.55  0.899277 -10.072252 -11.71 -10.072252  \n",
       "2008-10-10   104.55   85.70  0.819703 -18.029651 -18.85 -18.029651  \n",
       "2008-10-09    85.70   93.35  1.089265   8.926488   7.65   8.926488  \n",
       "2008-10-08    93.35   85.91  0.920300  -7.970005  -7.44  -7.970005  "
      ]
     },
     "execution_count": 434,
     "metadata": {},
     "output_type": "execute_result"
    }
   ],
   "source": [
    "apple1['Diff']=apple1.Open.diff()\n",
    "apple1['Return']=apple1.Diff.div(apple1.shifted).mul(100)\n",
    "apple1.head()"
   ]
  },
  {
   "cell_type": "code",
   "execution_count": 435,
   "metadata": {},
   "outputs": [
    {
     "data": {
      "text/html": [
       "<div>\n",
       "<style>\n",
       "    .dataframe thead tr:only-child th {\n",
       "        text-align: right;\n",
       "    }\n",
       "\n",
       "    .dataframe thead th {\n",
       "        text-align: left;\n",
       "    }\n",
       "\n",
       "    .dataframe tbody tr th {\n",
       "        vertical-align: top;\n",
       "    }\n",
       "</style>\n",
       "<table border=\"1\" class=\"dataframe\">\n",
       "  <thead>\n",
       "    <tr style=\"text-align: right;\">\n",
       "      <th></th>\n",
       "      <th>Open</th>\n",
       "      <th>High</th>\n",
       "      <th>Low</th>\n",
       "      <th>Close</th>\n",
       "      <th>Volume</th>\n",
       "      <th>Adj Close</th>\n",
       "      <th>normalized</th>\n",
       "      <th>shifted</th>\n",
       "      <th>lagged</th>\n",
       "      <th>change</th>\n",
       "      <th>return</th>\n",
       "      <th>Diff</th>\n",
       "      <th>Return</th>\n",
       "      <th>monthly return</th>\n",
       "    </tr>\n",
       "    <tr>\n",
       "      <th>Date</th>\n",
       "      <th></th>\n",
       "      <th></th>\n",
       "      <th></th>\n",
       "      <th></th>\n",
       "      <th></th>\n",
       "      <th></th>\n",
       "      <th></th>\n",
       "      <th></th>\n",
       "      <th></th>\n",
       "      <th></th>\n",
       "      <th></th>\n",
       "      <th></th>\n",
       "      <th></th>\n",
       "      <th></th>\n",
       "    </tr>\n",
       "  </thead>\n",
       "  <tbody>\n",
       "    <tr>\n",
       "      <th>2008-10-14</th>\n",
       "      <td>116.26</td>\n",
       "      <td>116.40</td>\n",
       "      <td>103.14</td>\n",
       "      <td>104.08</td>\n",
       "      <td>70749800</td>\n",
       "      <td>104.08</td>\n",
       "      <td>1.000000</td>\n",
       "      <td>NaN</td>\n",
       "      <td>116.26</td>\n",
       "      <td>NaN</td>\n",
       "      <td>NaN</td>\n",
       "      <td>NaN</td>\n",
       "      <td>NaN</td>\n",
       "      <td>NaN</td>\n",
       "    </tr>\n",
       "    <tr>\n",
       "      <th>2008-10-13</th>\n",
       "      <td>104.55</td>\n",
       "      <td>110.53</td>\n",
       "      <td>101.02</td>\n",
       "      <td>110.26</td>\n",
       "      <td>54967000</td>\n",
       "      <td>110.26</td>\n",
       "      <td>1.059377</td>\n",
       "      <td>116.26</td>\n",
       "      <td>104.55</td>\n",
       "      <td>0.899277</td>\n",
       "      <td>-10.072252</td>\n",
       "      <td>-11.71</td>\n",
       "      <td>-10.072252</td>\n",
       "      <td>NaN</td>\n",
       "    </tr>\n",
       "    <tr>\n",
       "      <th>2008-10-10</th>\n",
       "      <td>85.70</td>\n",
       "      <td>100.00</td>\n",
       "      <td>85.00</td>\n",
       "      <td>96.80</td>\n",
       "      <td>79260700</td>\n",
       "      <td>96.80</td>\n",
       "      <td>0.930054</td>\n",
       "      <td>104.55</td>\n",
       "      <td>85.70</td>\n",
       "      <td>0.819703</td>\n",
       "      <td>-18.029651</td>\n",
       "      <td>-18.85</td>\n",
       "      <td>-18.029651</td>\n",
       "      <td>NaN</td>\n",
       "    </tr>\n",
       "    <tr>\n",
       "      <th>2008-10-09</th>\n",
       "      <td>93.35</td>\n",
       "      <td>95.80</td>\n",
       "      <td>86.60</td>\n",
       "      <td>88.74</td>\n",
       "      <td>57763700</td>\n",
       "      <td>88.74</td>\n",
       "      <td>0.852613</td>\n",
       "      <td>85.70</td>\n",
       "      <td>93.35</td>\n",
       "      <td>1.089265</td>\n",
       "      <td>8.926488</td>\n",
       "      <td>7.65</td>\n",
       "      <td>8.926488</td>\n",
       "      <td>NaN</td>\n",
       "    </tr>\n",
       "    <tr>\n",
       "      <th>2008-10-08</th>\n",
       "      <td>85.91</td>\n",
       "      <td>96.33</td>\n",
       "      <td>85.68</td>\n",
       "      <td>89.79</td>\n",
       "      <td>78847900</td>\n",
       "      <td>89.79</td>\n",
       "      <td>0.862702</td>\n",
       "      <td>93.35</td>\n",
       "      <td>85.91</td>\n",
       "      <td>0.920300</td>\n",
       "      <td>-7.970005</td>\n",
       "      <td>-7.44</td>\n",
       "      <td>-7.970005</td>\n",
       "      <td>NaN</td>\n",
       "    </tr>\n",
       "  </tbody>\n",
       "</table>\n",
       "</div>"
      ],
      "text/plain": [
       "              Open    High     Low   Close    Volume  Adj Close  normalized  \\\n",
       "Date                                                                          \n",
       "2008-10-14  116.26  116.40  103.14  104.08  70749800     104.08    1.000000   \n",
       "2008-10-13  104.55  110.53  101.02  110.26  54967000     110.26    1.059377   \n",
       "2008-10-10   85.70  100.00   85.00   96.80  79260700      96.80    0.930054   \n",
       "2008-10-09   93.35   95.80   86.60   88.74  57763700      88.74    0.852613   \n",
       "2008-10-08   85.91   96.33   85.68   89.79  78847900      89.79    0.862702   \n",
       "\n",
       "            shifted  lagged    change     return   Diff     Return  \\\n",
       "Date                                                                 \n",
       "2008-10-14      NaN  116.26       NaN        NaN    NaN        NaN   \n",
       "2008-10-13   116.26  104.55  0.899277 -10.072252 -11.71 -10.072252   \n",
       "2008-10-10   104.55   85.70  0.819703 -18.029651 -18.85 -18.029651   \n",
       "2008-10-09    85.70   93.35  1.089265   8.926488   7.65   8.926488   \n",
       "2008-10-08    93.35   85.91  0.920300  -7.970005  -7.44  -7.970005   \n",
       "\n",
       "            monthly return  \n",
       "Date                        \n",
       "2008-10-14             NaN  \n",
       "2008-10-13             NaN  \n",
       "2008-10-10             NaN  \n",
       "2008-10-09             NaN  \n",
       "2008-10-08             NaN  "
      ]
     },
     "execution_count": 435,
     "metadata": {},
     "output_type": "execute_result"
    }
   ],
   "source": [
    "apple1['monthly return']=apple1['Adj Close'].pct_change(30).mul(100)\n",
    "apple1.head()"
   ]
  },
  {
   "cell_type": "code",
   "execution_count": 436,
   "metadata": {},
   "outputs": [
    {
     "data": {
      "text/html": [
       "<div>\n",
       "<style>\n",
       "    .dataframe thead tr:only-child th {\n",
       "        text-align: right;\n",
       "    }\n",
       "\n",
       "    .dataframe thead th {\n",
       "        text-align: left;\n",
       "    }\n",
       "\n",
       "    .dataframe tbody tr th {\n",
       "        vertical-align: top;\n",
       "    }\n",
       "</style>\n",
       "<table border=\"1\" class=\"dataframe\">\n",
       "  <thead>\n",
       "    <tr style=\"text-align: right;\">\n",
       "      <th></th>\n",
       "      <th>Open</th>\n",
       "      <th>High</th>\n",
       "      <th>Low</th>\n",
       "      <th>Close</th>\n",
       "      <th>Volume</th>\n",
       "      <th>Adj Close</th>\n",
       "      <th>normalized</th>\n",
       "      <th>shifted</th>\n",
       "      <th>lagged</th>\n",
       "      <th>change</th>\n",
       "      <th>return</th>\n",
       "      <th>Diff</th>\n",
       "      <th>Return</th>\n",
       "      <th>monthly return</th>\n",
       "      <th>annual return</th>\n",
       "    </tr>\n",
       "    <tr>\n",
       "      <th>Date</th>\n",
       "      <th></th>\n",
       "      <th></th>\n",
       "      <th></th>\n",
       "      <th></th>\n",
       "      <th></th>\n",
       "      <th></th>\n",
       "      <th></th>\n",
       "      <th></th>\n",
       "      <th></th>\n",
       "      <th></th>\n",
       "      <th></th>\n",
       "      <th></th>\n",
       "      <th></th>\n",
       "      <th></th>\n",
       "      <th></th>\n",
       "    </tr>\n",
       "  </thead>\n",
       "  <tbody>\n",
       "    <tr>\n",
       "      <th>2008-10-14</th>\n",
       "      <td>116.26</td>\n",
       "      <td>116.40</td>\n",
       "      <td>103.14</td>\n",
       "      <td>104.08</td>\n",
       "      <td>70749800</td>\n",
       "      <td>104.08</td>\n",
       "      <td>1.000000</td>\n",
       "      <td>NaN</td>\n",
       "      <td>116.26</td>\n",
       "      <td>NaN</td>\n",
       "      <td>NaN</td>\n",
       "      <td>NaN</td>\n",
       "      <td>NaN</td>\n",
       "      <td>NaN</td>\n",
       "      <td>NaN</td>\n",
       "    </tr>\n",
       "    <tr>\n",
       "      <th>2008-10-13</th>\n",
       "      <td>104.55</td>\n",
       "      <td>110.53</td>\n",
       "      <td>101.02</td>\n",
       "      <td>110.26</td>\n",
       "      <td>54967000</td>\n",
       "      <td>110.26</td>\n",
       "      <td>1.059377</td>\n",
       "      <td>116.26</td>\n",
       "      <td>104.55</td>\n",
       "      <td>0.899277</td>\n",
       "      <td>-10.072252</td>\n",
       "      <td>-11.71</td>\n",
       "      <td>-10.072252</td>\n",
       "      <td>NaN</td>\n",
       "      <td>NaN</td>\n",
       "    </tr>\n",
       "    <tr>\n",
       "      <th>2008-10-10</th>\n",
       "      <td>85.70</td>\n",
       "      <td>100.00</td>\n",
       "      <td>85.00</td>\n",
       "      <td>96.80</td>\n",
       "      <td>79260700</td>\n",
       "      <td>96.80</td>\n",
       "      <td>0.930054</td>\n",
       "      <td>104.55</td>\n",
       "      <td>85.70</td>\n",
       "      <td>0.819703</td>\n",
       "      <td>-18.029651</td>\n",
       "      <td>-18.85</td>\n",
       "      <td>-18.029651</td>\n",
       "      <td>NaN</td>\n",
       "      <td>NaN</td>\n",
       "    </tr>\n",
       "    <tr>\n",
       "      <th>2008-10-09</th>\n",
       "      <td>93.35</td>\n",
       "      <td>95.80</td>\n",
       "      <td>86.60</td>\n",
       "      <td>88.74</td>\n",
       "      <td>57763700</td>\n",
       "      <td>88.74</td>\n",
       "      <td>0.852613</td>\n",
       "      <td>85.70</td>\n",
       "      <td>93.35</td>\n",
       "      <td>1.089265</td>\n",
       "      <td>8.926488</td>\n",
       "      <td>7.65</td>\n",
       "      <td>8.926488</td>\n",
       "      <td>NaN</td>\n",
       "      <td>NaN</td>\n",
       "    </tr>\n",
       "    <tr>\n",
       "      <th>2008-10-08</th>\n",
       "      <td>85.91</td>\n",
       "      <td>96.33</td>\n",
       "      <td>85.68</td>\n",
       "      <td>89.79</td>\n",
       "      <td>78847900</td>\n",
       "      <td>89.79</td>\n",
       "      <td>0.862702</td>\n",
       "      <td>93.35</td>\n",
       "      <td>85.91</td>\n",
       "      <td>0.920300</td>\n",
       "      <td>-7.970005</td>\n",
       "      <td>-7.44</td>\n",
       "      <td>-7.970005</td>\n",
       "      <td>NaN</td>\n",
       "      <td>NaN</td>\n",
       "    </tr>\n",
       "  </tbody>\n",
       "</table>\n",
       "</div>"
      ],
      "text/plain": [
       "              Open    High     Low   Close    Volume  Adj Close  normalized  \\\n",
       "Date                                                                          \n",
       "2008-10-14  116.26  116.40  103.14  104.08  70749800     104.08    1.000000   \n",
       "2008-10-13  104.55  110.53  101.02  110.26  54967000     110.26    1.059377   \n",
       "2008-10-10   85.70  100.00   85.00   96.80  79260700      96.80    0.930054   \n",
       "2008-10-09   93.35   95.80   86.60   88.74  57763700      88.74    0.852613   \n",
       "2008-10-08   85.91   96.33   85.68   89.79  78847900      89.79    0.862702   \n",
       "\n",
       "            shifted  lagged    change     return   Diff     Return  \\\n",
       "Date                                                                 \n",
       "2008-10-14      NaN  116.26       NaN        NaN    NaN        NaN   \n",
       "2008-10-13   116.26  104.55  0.899277 -10.072252 -11.71 -10.072252   \n",
       "2008-10-10   104.55   85.70  0.819703 -18.029651 -18.85 -18.029651   \n",
       "2008-10-09    85.70   93.35  1.089265   8.926488   7.65   8.926488   \n",
       "2008-10-08    93.35   85.91  0.920300  -7.970005  -7.44  -7.970005   \n",
       "\n",
       "            monthly return  annual return  \n",
       "Date                                       \n",
       "2008-10-14             NaN            NaN  \n",
       "2008-10-13             NaN            NaN  \n",
       "2008-10-10             NaN            NaN  \n",
       "2008-10-09             NaN            NaN  \n",
       "2008-10-08             NaN            NaN  "
      ]
     },
     "execution_count": 436,
     "metadata": {},
     "output_type": "execute_result"
    }
   ],
   "source": [
    "apple1['annual return']=apple1['Adj Close'].pct_change(360).mul(100)\n",
    "apple1.head()"
   ]
  },
  {
   "cell_type": "code",
   "execution_count": 437,
   "metadata": {},
   "outputs": [
    {
     "data": {
      "image/png": "[encoded data removed]",
      "text/plain": [
       "<matplotlib.figure.Figure at 0x491403e3c8>"
      ]
     },
     "metadata": {},
     "output_type": "display_data"
    }
   ],
   "source": [
    "#apple1['2000':'2004'].info()\n",
    "#a1.head()\n",
    "\n",
    "#apple1['2000'].info()\n",
    "#apple1['2000':'2001'].info()\n",
    "apple1.loc['2000',['monthly return','annual return']].plot(figsize=(10,8))\n",
    "plt.show()"
   ]
  },
  {
   "cell_type": "code",
   "execution_count": 466,
   "metadata": {},
   "outputs": [
    {
     "data": {
      "image/png": "[encoded data removed]",
      "text/plain": [
       "<matplotlib.figure.Figure at 0x4913f3c160>"
      ]
     },
     "metadata": {},
     "output_type": "display_data"
    },
    {
     "data": {
      "text/html": [
       "<div>\n",
       "<style>\n",
       "    .dataframe thead tr:only-child th {\n",
       "        text-align: right;\n",
       "    }\n",
       "\n",
       "    .dataframe thead th {\n",
       "        text-align: left;\n",
       "    }\n",
       "\n",
       "    .dataframe tbody tr th {\n",
       "        vertical-align: top;\n",
       "    }\n",
       "</style>\n",
       "<table border=\"1\" class=\"dataframe\">\n",
       "  <thead>\n",
       "    <tr style=\"text-align: right;\">\n",
       "      <th></th>\n",
       "      <th>Open</th>\n",
       "      <th>High</th>\n",
       "      <th>Low</th>\n",
       "      <th>Close</th>\n",
       "      <th>Volume</th>\n",
       "      <th>Adj Close</th>\n",
       "      <th>normalized</th>\n",
       "      <th>shifted</th>\n",
       "      <th>lagged</th>\n",
       "      <th>change</th>\n",
       "      <th>return</th>\n",
       "      <th>Diff</th>\n",
       "      <th>Return</th>\n",
       "      <th>monthly return</th>\n",
       "      <th>annual return</th>\n",
       "    </tr>\n",
       "    <tr>\n",
       "      <th>Date</th>\n",
       "      <th></th>\n",
       "      <th></th>\n",
       "      <th></th>\n",
       "      <th></th>\n",
       "      <th></th>\n",
       "      <th></th>\n",
       "      <th></th>\n",
       "      <th></th>\n",
       "      <th></th>\n",
       "      <th></th>\n",
       "      <th></th>\n",
       "      <th></th>\n",
       "      <th></th>\n",
       "      <th></th>\n",
       "      <th></th>\n",
       "    </tr>\n",
       "  </thead>\n",
       "  <tbody>\n",
       "    <tr>\n",
       "      <th>2008-10-14</th>\n",
       "      <td>116.26</td>\n",
       "      <td>116.40</td>\n",
       "      <td>103.14</td>\n",
       "      <td>104.08</td>\n",
       "      <td>70749800</td>\n",
       "      <td>104.08</td>\n",
       "      <td>1.000000</td>\n",
       "      <td>NaN</td>\n",
       "      <td>116.26</td>\n",
       "      <td>NaN</td>\n",
       "      <td>NaN</td>\n",
       "      <td>NaN</td>\n",
       "      <td>NaN</td>\n",
       "      <td>NaN</td>\n",
       "      <td>NaN</td>\n",
       "    </tr>\n",
       "    <tr>\n",
       "      <th>2008-10-13</th>\n",
       "      <td>104.55</td>\n",
       "      <td>110.53</td>\n",
       "      <td>101.02</td>\n",
       "      <td>110.26</td>\n",
       "      <td>54967000</td>\n",
       "      <td>110.26</td>\n",
       "      <td>1.059377</td>\n",
       "      <td>116.26</td>\n",
       "      <td>104.55</td>\n",
       "      <td>0.899277</td>\n",
       "      <td>-10.072252</td>\n",
       "      <td>-11.71</td>\n",
       "      <td>-10.072252</td>\n",
       "      <td>NaN</td>\n",
       "      <td>NaN</td>\n",
       "    </tr>\n",
       "    <tr>\n",
       "      <th>2008-10-10</th>\n",
       "      <td>85.70</td>\n",
       "      <td>100.00</td>\n",
       "      <td>85.00</td>\n",
       "      <td>96.80</td>\n",
       "      <td>79260700</td>\n",
       "      <td>96.80</td>\n",
       "      <td>0.930054</td>\n",
       "      <td>104.55</td>\n",
       "      <td>85.70</td>\n",
       "      <td>0.819703</td>\n",
       "      <td>-18.029651</td>\n",
       "      <td>-18.85</td>\n",
       "      <td>-18.029651</td>\n",
       "      <td>NaN</td>\n",
       "      <td>NaN</td>\n",
       "    </tr>\n",
       "    <tr>\n",
       "      <th>2008-10-09</th>\n",
       "      <td>93.35</td>\n",
       "      <td>95.80</td>\n",
       "      <td>86.60</td>\n",
       "      <td>88.74</td>\n",
       "      <td>57763700</td>\n",
       "      <td>88.74</td>\n",
       "      <td>0.852613</td>\n",
       "      <td>85.70</td>\n",
       "      <td>93.35</td>\n",
       "      <td>1.089265</td>\n",
       "      <td>8.926488</td>\n",
       "      <td>7.65</td>\n",
       "      <td>8.926488</td>\n",
       "      <td>NaN</td>\n",
       "      <td>NaN</td>\n",
       "    </tr>\n",
       "    <tr>\n",
       "      <th>2008-10-08</th>\n",
       "      <td>85.91</td>\n",
       "      <td>96.33</td>\n",
       "      <td>85.68</td>\n",
       "      <td>89.79</td>\n",
       "      <td>78847900</td>\n",
       "      <td>89.79</td>\n",
       "      <td>0.862702</td>\n",
       "      <td>93.35</td>\n",
       "      <td>85.91</td>\n",
       "      <td>0.920300</td>\n",
       "      <td>-7.970005</td>\n",
       "      <td>-7.44</td>\n",
       "      <td>-7.970005</td>\n",
       "      <td>NaN</td>\n",
       "      <td>NaN</td>\n",
       "    </tr>\n",
       "  </tbody>\n",
       "</table>\n",
       "</div>"
      ],
      "text/plain": [
       "              Open    High     Low   Close    Volume  Adj Close  normalized  \\\n",
       "Date                                                                          \n",
       "2008-10-14  116.26  116.40  103.14  104.08  70749800     104.08    1.000000   \n",
       "2008-10-13  104.55  110.53  101.02  110.26  54967000     110.26    1.059377   \n",
       "2008-10-10   85.70  100.00   85.00   96.80  79260700      96.80    0.930054   \n",
       "2008-10-09   93.35   95.80   86.60   88.74  57763700      88.74    0.852613   \n",
       "2008-10-08   85.91   96.33   85.68   89.79  78847900      89.79    0.862702   \n",
       "\n",
       "            shifted  lagged    change     return   Diff     Return  \\\n",
       "Date                                                                 \n",
       "2008-10-14      NaN  116.26       NaN        NaN    NaN        NaN   \n",
       "2008-10-13   116.26  104.55  0.899277 -10.072252 -11.71 -10.072252   \n",
       "2008-10-10   104.55   85.70  0.819703 -18.029651 -18.85 -18.029651   \n",
       "2008-10-09    85.70   93.35  1.089265   8.926488   7.65   8.926488   \n",
       "2008-10-08    93.35   85.91  0.920300  -7.970005  -7.44  -7.970005   \n",
       "\n",
       "            monthly return  annual return  \n",
       "Date                                       \n",
       "2008-10-14             NaN            NaN  \n",
       "2008-10-13             NaN            NaN  \n",
       "2008-10-10             NaN            NaN  \n",
       "2008-10-09             NaN            NaN  \n",
       "2008-10-08             NaN            NaN  "
      ]
     },
     "execution_count": 466,
     "metadata": {},
     "output_type": "execute_result"
    }
   ],
   "source": [
    "## comparison\n",
    "\n",
    "apple1.head()\n",
    "firstprice=apple1['Adj Close'].iloc[0]\n",
    "normalized=apple1['Adj Close'].div(firstprice).mul(100)\n",
    "apple1['normalized']=apple1['Adj Close'].div(firstprice)\n",
    "ax=normalized.plot()\n",
    "plt.show()\n",
    "apple1.head()"
   ]
  },
  {
   "cell_type": "code",
   "execution_count": 464,
   "metadata": {},
   "outputs": [
    {
     "data": {
      "image/png": "[encoded data removed]",
      "text/plain": [
       "<matplotlib.figure.Figure at 0x4913fcd780>"
      ]
     },
     "metadata": {},
     "output_type": "display_data"
    }
   ],
   "source": [
    "apple1.iloc[0]\n",
    "n=apple1.div(apple1.iloc[0])\n",
    "n.head()\n",
    "ax=n['Adj Close'].plot(label='AC')  #using ax to plot multiple in 1 graph\n",
    "#plt.show()\n",
    "n['High'].plot(ax=ax,label='high')\n",
    "plt.show()"
   ]
  },
  {
   "cell_type": "markdown",
   "metadata": {},
   "source": [
    "# TIME PERIOD FREQ"
   ]
  },
  {
   "cell_type": "code",
   "execution_count": 316,
   "metadata": {},
   "outputs": [
    {
     "data": {
      "text/plain": [
       "2000-03-31    0.093797\n",
       "2000-06-30    2.080593\n",
       "2000-09-30    0.605463\n",
       "2000-12-31    2.329538\n",
       "Freq: Q-DEC, dtype: float64"
      ]
     },
     "execution_count": 316,
     "metadata": {},
     "output_type": "execute_result"
    }
   ],
   "source": [
    "## create data series with freq\n",
    "\n",
    "dates=pd.date_range(start='2000',periods=4,freq='Q')\n",
    "qr=pd.Series(data=np.abs(np.random.randn(4)),index=dates)\n",
    "qr"
   ]
  },
  {
   "cell_type": "code",
   "execution_count": 332,
   "metadata": {},
   "outputs": [
    {
     "data": {
      "text/html": [
       "<div>\n",
       "<style>\n",
       "    .dataframe thead tr:only-child th {\n",
       "        text-align: right;\n",
       "    }\n",
       "\n",
       "    .dataframe thead th {\n",
       "        text-align: left;\n",
       "    }\n",
       "\n",
       "    .dataframe tbody tr th {\n",
       "        vertical-align: top;\n",
       "    }\n",
       "</style>\n",
       "<table border=\"1\" class=\"dataframe\">\n",
       "  <thead>\n",
       "    <tr style=\"text-align: right;\">\n",
       "      <th></th>\n",
       "      <th>baseline</th>\n",
       "      <th>fvalue</th>\n",
       "      <th>bvalue</th>\n",
       "    </tr>\n",
       "  </thead>\n",
       "  <tbody>\n",
       "    <tr>\n",
       "      <th>2000-03-31</th>\n",
       "      <td>0.093797</td>\n",
       "      <td>0.093797</td>\n",
       "      <td>0.093797</td>\n",
       "    </tr>\n",
       "    <tr>\n",
       "      <th>2000-04-30</th>\n",
       "      <td>NaN</td>\n",
       "      <td>0.093797</td>\n",
       "      <td>2.080593</td>\n",
       "    </tr>\n",
       "    <tr>\n",
       "      <th>2000-05-31</th>\n",
       "      <td>NaN</td>\n",
       "      <td>0.093797</td>\n",
       "      <td>2.080593</td>\n",
       "    </tr>\n",
       "    <tr>\n",
       "      <th>2000-06-30</th>\n",
       "      <td>2.080593</td>\n",
       "      <td>2.080593</td>\n",
       "      <td>2.080593</td>\n",
       "    </tr>\n",
       "    <tr>\n",
       "      <th>2000-07-31</th>\n",
       "      <td>NaN</td>\n",
       "      <td>2.080593</td>\n",
       "      <td>0.605463</td>\n",
       "    </tr>\n",
       "    <tr>\n",
       "      <th>2000-08-31</th>\n",
       "      <td>NaN</td>\n",
       "      <td>2.080593</td>\n",
       "      <td>0.605463</td>\n",
       "    </tr>\n",
       "    <tr>\n",
       "      <th>2000-09-30</th>\n",
       "      <td>0.605463</td>\n",
       "      <td>0.605463</td>\n",
       "      <td>0.605463</td>\n",
       "    </tr>\n",
       "    <tr>\n",
       "      <th>2000-10-31</th>\n",
       "      <td>NaN</td>\n",
       "      <td>0.605463</td>\n",
       "      <td>2.329538</td>\n",
       "    </tr>\n",
       "    <tr>\n",
       "      <th>2000-11-30</th>\n",
       "      <td>NaN</td>\n",
       "      <td>0.605463</td>\n",
       "      <td>2.329538</td>\n",
       "    </tr>\n",
       "    <tr>\n",
       "      <th>2000-12-31</th>\n",
       "      <td>2.329538</td>\n",
       "      <td>2.329538</td>\n",
       "      <td>2.329538</td>\n",
       "    </tr>\n",
       "  </tbody>\n",
       "</table>\n",
       "</div>"
      ],
      "text/plain": [
       "            baseline    fvalue    bvalue\n",
       "2000-03-31  0.093797  0.093797  0.093797\n",
       "2000-04-30       NaN  0.093797  2.080593\n",
       "2000-05-31       NaN  0.093797  2.080593\n",
       "2000-06-30  2.080593  2.080593  2.080593\n",
       "2000-07-31       NaN  2.080593  0.605463\n",
       "2000-08-31       NaN  2.080593  0.605463\n",
       "2000-09-30  0.605463  0.605463  0.605463\n",
       "2000-10-31       NaN  0.605463  2.329538\n",
       "2000-11-30       NaN  0.605463  2.329538\n",
       "2000-12-31  2.329538  2.329538  2.329538"
      ]
     },
     "execution_count": 332,
     "metadata": {},
     "output_type": "execute_result"
    }
   ],
   "source": [
    "mn=qr.asfreq('M')   #change freq\n",
    "mn=mn.to_frame('baseline')\n",
    "mn['fvalue']=qr.asfreq('M',method='ffill')\n",
    "mn['bvalue']=qr.asfreq('M',method='bfill')\n",
    "mn"
   ]
  },
  {
   "cell_type": "code",
   "execution_count": 322,
   "metadata": {},
   "outputs": [
    {
     "data": {
      "text/plain": [
       "2000-12-31    2.329538\n",
       "Freq: A-DEC, dtype: float64"
      ]
     },
     "execution_count": 322,
     "metadata": {},
     "output_type": "execute_result"
    }
   ],
   "source": [
    "qr1=mn.asfreq('A')\n",
    "qr1"
   ]
  },
  {
   "cell_type": "code",
   "execution_count": 337,
   "metadata": {},
   "outputs": [
    {
     "data": {
      "text/plain": [
       "DatetimeIndex(['2000-01-31', '2000-02-29', '2000-03-31', '2000-04-30',\n",
       "               '2000-05-31', '2000-06-30', '2000-07-31', '2000-08-31',\n",
       "               '2000-09-30', '2000-10-31', '2000-11-30', '2000-12-31'],\n",
       "              dtype='datetime64[ns]', freq='M')"
      ]
     },
     "execution_count": 337,
     "metadata": {},
     "output_type": "execute_result"
    }
   ],
   "source": [
    "dates=pd.date_range(start='2000',periods=12,freq='M')\n",
    "dates"
   ]
  },
  {
   "cell_type": "code",
   "execution_count": 338,
   "metadata": {},
   "outputs": [
    {
     "data": {
      "text/plain": [
       "2000-01-31         NaN\n",
       "2000-02-29         NaN\n",
       "2000-03-31    0.093797\n",
       "2000-04-30         NaN\n",
       "2000-05-31         NaN\n",
       "2000-06-30    2.080593\n",
       "2000-07-31         NaN\n",
       "2000-08-31         NaN\n",
       "2000-09-30    0.605463\n",
       "2000-10-31         NaN\n",
       "2000-11-30         NaN\n",
       "2000-12-31    2.329538\n",
       "Freq: M, dtype: float64"
      ]
     },
     "execution_count": 338,
     "metadata": {},
     "output_type": "execute_result"
    }
   ],
   "source": [
    "qr.reindex(dates)"
   ]
  },
  {
   "cell_type": "markdown",
   "metadata": {},
   "source": [
    "# UPSAMPLING - Interpolate"
   ]
  },
  {
   "cell_type": "code",
   "execution_count": 439,
   "metadata": {},
   "outputs": [
    {
     "data": {
      "text/plain": [
       "2000-01-01    1.270590\n",
       "2001-01-01   -1.461073\n",
       "Freq: AS-JAN, dtype: float64"
      ]
     },
     "execution_count": 439,
     "metadata": {},
     "output_type": "execute_result"
    }
   ],
   "source": [
    "## RESAMPLE and INTERPOLATE\n",
    "\n",
    "dates=pd.date_range(start='2000',periods=2,freq='AS')  #AS - annual start\n",
    "ex=pd.Series(data=(np.random.randn(2)),index=dates)\n",
    "ex"
   ]
  },
  {
   "cell_type": "code",
   "execution_count": 440,
   "metadata": {},
   "outputs": [
    {
     "name": "stdout",
     "output_type": "stream",
     "text": [
      "<class 'pandas.core.frame.DataFrame'>\n",
      "DatetimeIndex: 2 entries, 2000-01-01 to 2001-01-01\n",
      "Freq: AS-JAN\n",
      "Data columns (total 1 columns):\n",
      "x    2 non-null float64\n",
      "dtypes: float64(1)\n",
      "memory usage: 112.0 bytes\n"
     ]
    }
   ],
   "source": [
    "ex=ex.to_frame('x').info()\n",
    "ex.asfreq('QS').info()"
   ]
  },
  {
   "cell_type": "code",
   "execution_count": 373,
   "metadata": {},
   "outputs": [
    {
     "name": "stdout",
     "output_type": "stream",
     "text": [
      "<class 'pandas.core.frame.DataFrame'>\n",
      "DatetimeIndex: 5 entries, 2000-01-01 to 2001-01-01\n",
      "Freq: QS-JAN\n",
      "Data columns (total 1 columns):\n",
      "x    2 non-null float64\n",
      "dtypes: float64(1)\n",
      "memory usage: 80.0 bytes\n"
     ]
    },
    {
     "name": "stderr",
     "output_type": "stream",
     "text": [
      "C:\\Users\\lenovo\\Anaconda3\\lib\\site-packages\\ipykernel_launcher.py:1: FutureWarning: \n",
      ".resample() is now a deferred operation\n",
      "You called info(...) on this deferred object which materialized it into a dataframe\n",
      "by implicitly taking the mean.  Use .resample(...).mean() instead\n",
      "  \"\"\"Entry point for launching an IPython kernel.\n"
     ]
    }
   ],
   "source": [
    "ex.resample('QS').info()  #same result as as.freq"
   ]
  },
  {
   "cell_type": "code",
   "execution_count": 417,
   "metadata": {},
   "outputs": [
    {
     "data": {
      "text/plain": [
       "2000-01-01    1\n",
       "2001-01-01    2\n",
       "2002-01-01    3\n",
       "Freq: AS-JAN, dtype: int64"
      ]
     },
     "execution_count": 417,
     "metadata": {},
     "output_type": "execute_result"
    }
   ],
   "source": [
    "data=pd.Series(data=[1,2,3],index=pd.date_range(start='2000-01-01',periods=3,freq='AS'))\n",
    "data"
   ]
  },
  {
   "cell_type": "code",
   "execution_count": 427,
   "metadata": {},
   "outputs": [
    {
     "data": {
      "text/plain": [
       "2000-01-01    1\n",
       "2000-04-01    1\n",
       "2000-07-01    1\n",
       "2000-10-01    1\n",
       "2001-01-01    2\n",
       "2001-04-01    2\n",
       "2001-07-01    2\n",
       "2001-10-01    2\n",
       "2002-01-01    3\n",
       "Freq: QS-JAN, dtype: int64"
      ]
     },
     "execution_count": 427,
     "metadata": {},
     "output_type": "execute_result"
    }
   ],
   "source": [
    "afill=data.resample('QS').ffill()\n",
    "afill"
   ]
  },
  {
   "cell_type": "code",
   "execution_count": 425,
   "metadata": {},
   "outputs": [
    {
     "data": {
      "text/plain": [
       "2000-01-01    1.00\n",
       "2000-04-01    1.25\n",
       "2000-07-01    1.50\n",
       "2000-10-01    1.75\n",
       "2001-01-01    2.00\n",
       "2001-04-01    2.25\n",
       "2001-07-01    2.50\n",
       "2001-10-01    2.75\n",
       "2002-01-01    3.00\n",
       "Freq: QS-JAN, dtype: float64"
      ]
     },
     "execution_count": 425,
     "metadata": {},
     "output_type": "execute_result"
    }
   ],
   "source": [
    "ainter=data.resample('QS').interpolate()\n",
    "ainter"
   ]
  },
  {
   "cell_type": "code",
   "execution_count": 429,
   "metadata": {},
   "outputs": [
    {
     "data": {
      "image/png": "[encoded data removed]",
      "text/plain": [
       "<matplotlib.figure.Figure at 0x4913ff3f28>"
      ]
     },
     "metadata": {},
     "output_type": "display_data"
    }
   ],
   "source": [
    "pd.concat([afill,ainter],axis=1).plot()\n",
    "plt.show()"
   ]
  },
  {
   "cell_type": "markdown",
   "metadata": {},
   "source": [
    "# DOWNSAMPLE - Aggregate"
   ]
  },
  {
   "cell_type": "code",
   "execution_count": 438,
   "metadata": {},
   "outputs": [
    {
     "data": {
      "text/plain": [
       "2000-01-01    1\n",
       "2000-04-01    1\n",
       "2000-07-01    1\n",
       "2000-10-01    1\n",
       "2001-01-01    2\n",
       "2001-04-01    2\n",
       "2001-07-01    2\n",
       "2001-10-01    2\n",
       "2002-01-01    3\n",
       "Freq: QS-JAN, dtype: int64"
      ]
     },
     "execution_count": 438,
     "metadata": {},
     "output_type": "execute_result"
    }
   ],
   "source": [
    "afill"
   ]
  },
  {
   "cell_type": "code",
   "execution_count": 442,
   "metadata": {},
   "outputs": [
    {
     "data": {
      "text/plain": [
       "2000-01-01    1\n",
       "2001-01-01    2\n",
       "2002-01-01    3\n",
       "Freq: AS-JAN, dtype: int64"
      ]
     },
     "execution_count": 442,
     "metadata": {},
     "output_type": "execute_result"
    }
   ],
   "source": [
    "afill.resample('AS').mean().head()"
   ]
  },
  {
   "cell_type": "code",
   "execution_count": 450,
   "metadata": {},
   "outputs": [
    {
     "data": {
      "text/html": [
       "<div>\n",
       "<style>\n",
       "    .dataframe thead tr:only-child th {\n",
       "        text-align: right;\n",
       "    }\n",
       "\n",
       "    .dataframe thead th {\n",
       "        text-align: left;\n",
       "    }\n",
       "\n",
       "    .dataframe tbody tr th {\n",
       "        vertical-align: top;\n",
       "    }\n",
       "</style>\n",
       "<table border=\"1\" class=\"dataframe\">\n",
       "  <thead>\n",
       "    <tr style=\"text-align: right;\">\n",
       "      <th></th>\n",
       "      <th>mean</th>\n",
       "      <th>std</th>\n",
       "    </tr>\n",
       "  </thead>\n",
       "  <tbody>\n",
       "    <tr>\n",
       "      <th>2000-12-31</th>\n",
       "      <td>1</td>\n",
       "      <td>0.0</td>\n",
       "    </tr>\n",
       "    <tr>\n",
       "      <th>2001-12-31</th>\n",
       "      <td>2</td>\n",
       "      <td>0.0</td>\n",
       "    </tr>\n",
       "    <tr>\n",
       "      <th>2002-12-31</th>\n",
       "      <td>3</td>\n",
       "      <td>NaN</td>\n",
       "    </tr>\n",
       "  </tbody>\n",
       "</table>\n",
       "</div>"
      ],
      "text/plain": [
       "            mean  std\n",
       "2000-12-31     1  0.0\n",
       "2001-12-31     2  0.0\n",
       "2002-12-31     3  NaN"
      ]
     },
     "execution_count": 450,
     "metadata": {},
     "output_type": "execute_result"
    }
   ],
   "source": [
    "aa=afill.resample('A').agg(['mean','std'])\n",
    "aa"
   ]
  },
  {
   "cell_type": "code",
   "execution_count": 451,
   "metadata": {},
   "outputs": [
    {
     "data": {
      "text/html": [
       "<div>\n",
       "<style>\n",
       "    .dataframe thead tr:only-child th {\n",
       "        text-align: right;\n",
       "    }\n",
       "\n",
       "    .dataframe thead th {\n",
       "        text-align: left;\n",
       "    }\n",
       "\n",
       "    .dataframe tbody tr th {\n",
       "        vertical-align: top;\n",
       "    }\n",
       "</style>\n",
       "<table border=\"1\" class=\"dataframe\">\n",
       "  <thead>\n",
       "    <tr style=\"text-align: right;\">\n",
       "      <th></th>\n",
       "      <th>mean</th>\n",
       "      <th>std</th>\n",
       "    </tr>\n",
       "  </thead>\n",
       "  <tbody>\n",
       "    <tr>\n",
       "      <th>2001-12-31</th>\n",
       "      <td>2</td>\n",
       "      <td>0.0</td>\n",
       "    </tr>\n",
       "  </tbody>\n",
       "</table>\n",
       "</div>"
      ],
      "text/plain": [
       "            mean  std\n",
       "2001-12-31     2  0.0"
      ]
     },
     "execution_count": 451,
     "metadata": {},
     "output_type": "execute_result"
    }
   ],
   "source": [
    "aa.loc['2001']"
   ]
  },
  {
   "cell_type": "code",
   "execution_count": 467,
   "metadata": {},
   "outputs": [
    {
     "name": "stdout",
     "output_type": "stream",
     "text": [
      "<class 'pandas.core.frame.DataFrame'>\n",
      "DatetimeIndex: 6081 entries, 2008-10-14 to 1984-09-07\n",
      "Data columns (total 6 columns):\n",
      "Open         6081 non-null float64\n",
      "High         6081 non-null float64\n",
      "Low          6081 non-null float64\n",
      "Close        6081 non-null float64\n",
      "Volume       6081 non-null int64\n",
      "Adj Close    6081 non-null float64\n",
      "dtypes: float64(5), int64(1)\n",
      "memory usage: 332.6 KB\n"
     ]
    }
   ],
   "source": [
    "## RESAMPLING MULTIPLE TS\n",
    "\n",
    "data=pd.read_csv('aapl.csv',parse_dates=['Date'],index_col='Date')\n",
    "data.info()"
   ]
  },
  {
   "cell_type": "code",
   "execution_count": 472,
   "metadata": {},
   "outputs": [
    {
     "name": "stdout",
     "output_type": "stream",
     "text": [
      "<class 'pandas.core.frame.DataFrame'>\n",
      "DatetimeIndex: 98 entries, 1984-09-30 to 2008-12-31\n",
      "Freq: Q-DEC\n",
      "Data columns (total 6 columns):\n",
      "Open         68 non-null float64\n",
      "High         68 non-null float64\n",
      "Low          68 non-null float64\n",
      "Close        68 non-null float64\n",
      "Volume       68 non-null float64\n",
      "Adj Close    68 non-null float64\n",
      "dtypes: float64(6)\n",
      "memory usage: 5.4 KB\n"
     ]
    }
   ],
   "source": [
    "data.resample('Q').asfreq().info()"
   ]
  },
  {
   "cell_type": "code",
   "execution_count": 484,
   "metadata": {},
   "outputs": [
    {
     "data": {
      "text/html": [
       "<div>\n",
       "<style>\n",
       "    .dataframe thead tr:only-child th {\n",
       "        text-align: right;\n",
       "    }\n",
       "\n",
       "    .dataframe thead th {\n",
       "        text-align: left;\n",
       "    }\n",
       "\n",
       "    .dataframe tbody tr th {\n",
       "        vertical-align: top;\n",
       "    }\n",
       "</style>\n",
       "<table border=\"1\" class=\"dataframe\">\n",
       "  <thead>\n",
       "    <tr style=\"text-align: right;\">\n",
       "      <th></th>\n",
       "      <th>Open</th>\n",
       "      <th>High</th>\n",
       "      <th>Low</th>\n",
       "      <th>Close</th>\n",
       "      <th>Volume</th>\n",
       "      <th>Adj Close</th>\n",
       "    </tr>\n",
       "    <tr>\n",
       "      <th>Date</th>\n",
       "      <th></th>\n",
       "      <th></th>\n",
       "      <th></th>\n",
       "      <th></th>\n",
       "      <th></th>\n",
       "      <th></th>\n",
       "    </tr>\n",
       "  </thead>\n",
       "  <tbody>\n",
       "    <tr>\n",
       "      <th>1984-09-28</th>\n",
       "      <td>26.50</td>\n",
       "      <td>26.87</td>\n",
       "      <td>26.25</td>\n",
       "      <td>26.50</td>\n",
       "      <td>2981600</td>\n",
       "      <td>3.02</td>\n",
       "    </tr>\n",
       "    <tr>\n",
       "      <th>1984-10-31</th>\n",
       "      <td>25.00</td>\n",
       "      <td>25.00</td>\n",
       "      <td>24.50</td>\n",
       "      <td>24.50</td>\n",
       "      <td>3521600</td>\n",
       "      <td>2.80</td>\n",
       "    </tr>\n",
       "    <tr>\n",
       "      <th>1984-11-30</th>\n",
       "      <td>25.00</td>\n",
       "      <td>25.25</td>\n",
       "      <td>25.00</td>\n",
       "      <td>25.00</td>\n",
       "      <td>1680000</td>\n",
       "      <td>2.85</td>\n",
       "    </tr>\n",
       "    <tr>\n",
       "      <th>1984-12-31</th>\n",
       "      <td>24.75</td>\n",
       "      <td>24.87</td>\n",
       "      <td>24.37</td>\n",
       "      <td>24.37</td>\n",
       "      <td>3533600</td>\n",
       "      <td>2.78</td>\n",
       "    </tr>\n",
       "    <tr>\n",
       "      <th>1985-01-31</th>\n",
       "      <td>29.12</td>\n",
       "      <td>29.12</td>\n",
       "      <td>27.87</td>\n",
       "      <td>27.87</td>\n",
       "      <td>6272800</td>\n",
       "      <td>3.18</td>\n",
       "    </tr>\n",
       "  </tbody>\n",
       "</table>\n",
       "</div>"
      ],
      "text/plain": [
       "             Open   High    Low  Close   Volume  Adj Close\n",
       "Date                                                      \n",
       "1984-09-28  26.50  26.87  26.25  26.50  2981600       3.02\n",
       "1984-10-31  25.00  25.00  24.50  24.50  3521600       2.80\n",
       "1984-11-30  25.00  25.25  25.00  25.00  1680000       2.85\n",
       "1984-12-31  24.75  24.87  24.37  24.37  3533600       2.78\n",
       "1985-01-31  29.12  29.12  27.87  27.87  6272800       3.18"
      ]
     },
     "execution_count": 484,
     "metadata": {},
     "output_type": "execute_result"
    }
   ],
   "source": [
    "data.resample('BM').first().head()  #resample by aggregating monthly with first value for each month"
   ]
  },
  {
   "cell_type": "markdown",
   "metadata": {},
   "source": [
    "# ROLLING FUNCTIONS"
   ]
  },
  {
   "cell_type": "code",
   "execution_count": 516,
   "metadata": {},
   "outputs": [
    {
     "data": {
      "text/html": [
       "<div>\n",
       "<style>\n",
       "    .dataframe thead tr:only-child th {\n",
       "        text-align: right;\n",
       "    }\n",
       "\n",
       "    .dataframe thead th {\n",
       "        text-align: left;\n",
       "    }\n",
       "\n",
       "    .dataframe tbody tr th {\n",
       "        vertical-align: top;\n",
       "    }\n",
       "</style>\n",
       "<table border=\"1\" class=\"dataframe\">\n",
       "  <thead>\n",
       "    <tr style=\"text-align: right;\">\n",
       "      <th></th>\n",
       "      <th>x</th>\n",
       "      <th>weekday</th>\n",
       "    </tr>\n",
       "  </thead>\n",
       "  <tbody>\n",
       "    <tr>\n",
       "      <th>2000-01-01</th>\n",
       "      <td>1</td>\n",
       "      <td>Saturday</td>\n",
       "    </tr>\n",
       "    <tr>\n",
       "      <th>2000-01-02</th>\n",
       "      <td>2</td>\n",
       "      <td>Sunday</td>\n",
       "    </tr>\n",
       "    <tr>\n",
       "      <th>2000-01-03</th>\n",
       "      <td>3</td>\n",
       "      <td>Monday</td>\n",
       "    </tr>\n",
       "    <tr>\n",
       "      <th>2000-01-04</th>\n",
       "      <td>4</td>\n",
       "      <td>Tuesday</td>\n",
       "    </tr>\n",
       "    <tr>\n",
       "      <th>2000-01-05</th>\n",
       "      <td>5</td>\n",
       "      <td>Wednesday</td>\n",
       "    </tr>\n",
       "    <tr>\n",
       "      <th>2000-01-06</th>\n",
       "      <td>6</td>\n",
       "      <td>Thursday</td>\n",
       "    </tr>\n",
       "    <tr>\n",
       "      <th>2000-01-07</th>\n",
       "      <td>7</td>\n",
       "      <td>Friday</td>\n",
       "    </tr>\n",
       "    <tr>\n",
       "      <th>2000-01-08</th>\n",
       "      <td>8</td>\n",
       "      <td>Saturday</td>\n",
       "    </tr>\n",
       "    <tr>\n",
       "      <th>2000-01-09</th>\n",
       "      <td>9</td>\n",
       "      <td>Sunday</td>\n",
       "    </tr>\n",
       "    <tr>\n",
       "      <th>2000-01-10</th>\n",
       "      <td>10</td>\n",
       "      <td>Monday</td>\n",
       "    </tr>\n",
       "  </tbody>\n",
       "</table>\n",
       "</div>"
      ],
      "text/plain": [
       "             x    weekday\n",
       "2000-01-01   1   Saturday\n",
       "2000-01-02   2     Sunday\n",
       "2000-01-03   3     Monday\n",
       "2000-01-04   4    Tuesday\n",
       "2000-01-05   5  Wednesday\n",
       "2000-01-06   6   Thursday\n",
       "2000-01-07   7     Friday\n",
       "2000-01-08   8   Saturday\n",
       "2000-01-09   9     Sunday\n",
       "2000-01-10  10     Monday"
      ]
     },
     "execution_count": 516,
     "metadata": {},
     "output_type": "execute_result"
    }
   ],
   "source": [
    "## Rolling mean\n",
    "\n",
    "data=pd.Series(data=np.arange(1,11),index=pd.date_range(start='2000-01-01',periods=10))\n",
    "data=data.to_frame('x')\n",
    "date=pd.date_range(start='2000-01-01',periods=10)\n",
    "data['weekday']=date.weekday_name\n",
    "data"
   ]
  },
  {
   "cell_type": "code",
   "execution_count": 520,
   "metadata": {},
   "outputs": [
    {
     "data": {
      "text/html": [
       "<div>\n",
       "<style>\n",
       "    .dataframe thead tr:only-child th {\n",
       "        text-align: right;\n",
       "    }\n",
       "\n",
       "    .dataframe thead th {\n",
       "        text-align: left;\n",
       "    }\n",
       "\n",
       "    .dataframe tbody tr th {\n",
       "        vertical-align: top;\n",
       "    }\n",
       "</style>\n",
       "<table border=\"1\" class=\"dataframe\">\n",
       "  <thead>\n",
       "    <tr style=\"text-align: right;\">\n",
       "      <th></th>\n",
       "      <th>x</th>\n",
       "      <th>weekday</th>\n",
       "    </tr>\n",
       "  </thead>\n",
       "  <tbody>\n",
       "    <tr>\n",
       "      <th>2000-01-01</th>\n",
       "      <td>NaN</td>\n",
       "      <td>Saturday</td>\n",
       "    </tr>\n",
       "    <tr>\n",
       "      <th>2000-01-02</th>\n",
       "      <td>NaN</td>\n",
       "      <td>Sunday</td>\n",
       "    </tr>\n",
       "    <tr>\n",
       "      <th>2000-01-03</th>\n",
       "      <td>2.0</td>\n",
       "      <td>Monday</td>\n",
       "    </tr>\n",
       "    <tr>\n",
       "      <th>2000-01-04</th>\n",
       "      <td>3.0</td>\n",
       "      <td>Tuesday</td>\n",
       "    </tr>\n",
       "    <tr>\n",
       "      <th>2000-01-05</th>\n",
       "      <td>4.0</td>\n",
       "      <td>Wednesday</td>\n",
       "    </tr>\n",
       "    <tr>\n",
       "      <th>2000-01-06</th>\n",
       "      <td>5.0</td>\n",
       "      <td>Thursday</td>\n",
       "    </tr>\n",
       "    <tr>\n",
       "      <th>2000-01-07</th>\n",
       "      <td>6.0</td>\n",
       "      <td>Friday</td>\n",
       "    </tr>\n",
       "    <tr>\n",
       "      <th>2000-01-08</th>\n",
       "      <td>7.0</td>\n",
       "      <td>Saturday</td>\n",
       "    </tr>\n",
       "    <tr>\n",
       "      <th>2000-01-09</th>\n",
       "      <td>8.0</td>\n",
       "      <td>Sunday</td>\n",
       "    </tr>\n",
       "    <tr>\n",
       "      <th>2000-01-10</th>\n",
       "      <td>9.0</td>\n",
       "      <td>Monday</td>\n",
       "    </tr>\n",
       "  </tbody>\n",
       "</table>\n",
       "</div>"
      ],
      "text/plain": [
       "              x    weekday\n",
       "2000-01-01  NaN   Saturday\n",
       "2000-01-02  NaN     Sunday\n",
       "2000-01-03  2.0     Monday\n",
       "2000-01-04  3.0    Tuesday\n",
       "2000-01-05  4.0  Wednesday\n",
       "2000-01-06  5.0   Thursday\n",
       "2000-01-07  6.0     Friday\n",
       "2000-01-08  7.0   Saturday\n",
       "2000-01-09  8.0     Sunday\n",
       "2000-01-10  9.0     Monday"
      ]
     },
     "execution_count": 520,
     "metadata": {},
     "output_type": "execute_result"
    }
   ],
   "source": [
    "# fixed integer window taking into consideration last window no. of observations\n",
    "\n",
    "data.rolling(window=3).mean()"
   ]
  },
  {
   "cell_type": "code",
   "execution_count": 529,
   "metadata": {
    "collapsed": true
   },
   "outputs": [],
   "source": [
    "# offset-based window based on fixed period length and varying no of obs\n",
    "\n",
    "rd=data.rolling(window='3D').mean()"
   ]
  },
  {
   "cell_type": "code",
   "execution_count": 534,
   "metadata": {},
   "outputs": [
    {
     "data": {
      "image/png": "[encoded data removed]",
      "text/plain": [
       "<matplotlib.figure.Figure at 0x491e93e0f0>"
      ]
     },
     "metadata": {},
     "output_type": "display_data"
    }
   ],
   "source": [
    "#data.join(rd.add_suffix('rom')).plot()\n",
    "#plt.show()\n",
    "\n",
    "#or\n",
    "pd.concat([data,rd.add_suffix('rom')],axis=1).plot()\n",
    "plt.show()"
   ]
  },
  {
   "cell_type": "code",
   "execution_count": 539,
   "metadata": {
    "collapsed": true
   },
   "outputs": [],
   "source": [
    "data=pd.Series(data=[1,2,3,4,5,6,7,8,9,10],index=pd.date_range(start='2000-01-01',periods=10))\n",
    "rolling=data.rolling(window='2D')"
   ]
  },
  {
   "cell_type": "code",
   "execution_count": 549,
   "metadata": {},
   "outputs": [
    {
     "data": {
      "image/png": "[encoded data removed]",
      "text/plain": [
       "<matplotlib.figure.Figure at 0x491dc1cdd8>"
      ]
     },
     "metadata": {},
     "output_type": "display_data"
    }
   ],
   "source": [
    "# forming different frames and joining\n",
    "\n",
    "q10=rolling.quantile(.1).to_frame('q10')\n",
    "qmed=rolling.median().to_frame('med')\n",
    "q90=rolling.quantile(.9).to_frame('q90')\n",
    "a=pd.concat([q10,qmed,q90],axis=1).head()\n",
    "a.plot()\n",
    "plt.show()"
   ]
  },
  {
   "cell_type": "markdown",
   "metadata": {},
   "source": [
    "# return"
   ]
  },
  {
   "cell_type": "markdown",
   "metadata": {},
   "source": [
    "RATE OF RETURN : \n",
    "single period return, r1 =(xt/xt-1)-1\n",
    "multi period return, r = (1+r1)(1+r2)..(1+rn)-1"
   ]
  },
  {
   "cell_type": "markdown",
   "metadata": {},
   "source": [
    " calculate pct_change to get rate of return then add(1). then calc cumprod() and then sub(1) to get final r"
   ]
  },
  {
   "cell_type": "markdown",
   "metadata": {},
   "source": [
    "data.expanding().max() to get running max\n",
    "similarly running min. this gives overall min and max values"
   ]
  },
  {
   "cell_type": "markdown",
   "metadata": {},
   "source": [
    "# RANDOM WALK"
   ]
  },
  {
   "cell_type": "code",
   "execution_count": 633,
   "metadata": {},
   "outputs": [
    {
     "data": {
      "image/png": "[encoded data removed]",
      "text/plain": [
       "<matplotlib.figure.Figure at 0x49147ad080>"
      ]
     },
     "metadata": {},
     "output_type": "display_data"
    }
   ],
   "source": [
    "from numpy.random import normal,seed\n",
    "import seaborn\n",
    "from scipy.stats import norm\n",
    "seed(42)\n",
    "random_returns= normal(loc=0,scale=0.01,size=1000)\n",
    "seaborn.distplot(random_returns,fit=norm,kde=False)\n",
    "plt.show()"
   ]
  },
  {
   "cell_type": "code",
   "execution_count": 634,
   "metadata": {},
   "outputs": [
    {
     "data": {
      "image/png": "[encoded data removed]",
      "text/plain": [
       "<matplotlib.figure.Figure at 0x49141de5f8>"
      ]
     },
     "metadata": {},
     "output_type": "display_data"
    }
   ],
   "source": [
    "# CREATE A RANDOM PRICE PATH\n",
    "\n",
    "return_series=pd.Series(random_returns)\n",
    "random_prices=return_series.add(1).cumprod().sub(1)\n",
    "random_prices.mul(100).plot()\n",
    "plt.show()"
   ]
  },
  {
   "cell_type": "code",
   "execution_count": 2,
   "metadata": {},
   "outputs": [
    {
     "data": {
      "image/png": "[encoded data removed]",
      "text/plain": [
       "<matplotlib.figure.Figure at 0xb37f705400>"
      ]
     },
     "metadata": {},
     "output_type": "display_data"
    }
   ],
   "source": [
    "data=pd.read_csv('aapl.csv',parse_dates=['Date'],index_col='Date')\n",
    "data['return']=data['Adj Close'].pct_change()\n",
    "data.plot(subplots=True,figsize=(6,10))\n",
    "plt.show()"
   ]
  },
  {
   "cell_type": "code",
   "execution_count": 636,
   "metadata": {},
   "outputs": [
    {
     "data": {
      "image/png": "[encoded data removed]",
      "text/plain": [
       "<matplotlib.figure.Figure at 0x491e493f60>"
      ]
     },
     "metadata": {},
     "output_type": "display_data"
    }
   ],
   "source": [
    "seaborn.distplot(data['return'].dropna().mul(100),fit=norm)\n",
    "plt.show()    #the dist of return is not quite normal"
   ]
  },
  {
   "cell_type": "code",
   "execution_count": 637,
   "metadata": {},
   "outputs": [
    {
     "data": {
      "text/plain": [
       "Date\n",
       "2008-10-14     43.74\n",
       "2008-10-13     83.94\n",
       "2008-10-10      7.70\n",
       "2008-10-09     11.03\n",
       "2008-10-08    138.10\n",
       "dtype: float64"
      ]
     },
     "execution_count": 637,
     "metadata": {},
     "output_type": "execute_result"
    }
   ],
   "source": [
    "#  sample return samples\n",
    "from numpy.random import choice\n",
    "sample=data['Adj Close'].dropna()\n",
    "n= sample.count()\n",
    "random_walk=choice(samples,size=n)\n",
    "random_walk=pd.Series(random_walk,index=sample.index)\n",
    "random_walk.head()"
   ]
  },
  {
   "cell_type": "code",
   "execution_count": 8,
   "metadata": {},
   "outputs": [
    {
     "ename": "AttributeError",
     "evalue": "'DataFrame' object has no attribute 'set_freq'",
     "output_type": "error",
     "traceback": [
      "\u001b[1;31m---------------------------------------------------------------------------\u001b[0m",
      "\u001b[1;31mAttributeError\u001b[0m                            Traceback (most recent call last)",
      "\u001b[1;32m<ipython-input-8-608cfea0e9f0>\u001b[0m in \u001b[0;36m<module>\u001b[1;34m()\u001b[0m\n\u001b[0;32m      1\u001b[0m \u001b[1;31m# IDENTIFY SAMPLING FREQUENCY\u001b[0m\u001b[1;33m\u001b[0m\u001b[1;33m\u001b[0m\u001b[0m\n\u001b[1;32m----> 2\u001b[1;33m \u001b[0mdata\u001b[0m\u001b[1;33m.\u001b[0m\u001b[0mset_freq\u001b[0m\u001b[1;33m(\u001b[0m\u001b[1;34m'None'\u001b[0m\u001b[1;33m)\u001b[0m\u001b[1;33m\u001b[0m\u001b[0m\n\u001b[0m\u001b[0;32m      3\u001b[0m \u001b[0mdata\u001b[0m\u001b[1;33m.\u001b[0m\u001b[0minferred_freq\u001b[0m\u001b[1;33m(\u001b[0m\u001b[1;33m)\u001b[0m\u001b[1;33m\u001b[0m\u001b[0m\n",
      "\u001b[1;32m~\\Anaconda3\\lib\\site-packages\\pandas\\core\\generic.py\u001b[0m in \u001b[0;36m__getattr__\u001b[1;34m(self, name)\u001b[0m\n\u001b[0;32m   3079\u001b[0m             \u001b[1;32mif\u001b[0m \u001b[0mname\u001b[0m \u001b[1;32min\u001b[0m \u001b[0mself\u001b[0m\u001b[1;33m.\u001b[0m\u001b[0m_info_axis\u001b[0m\u001b[1;33m:\u001b[0m\u001b[1;33m\u001b[0m\u001b[0m\n\u001b[0;32m   3080\u001b[0m                 \u001b[1;32mreturn\u001b[0m \u001b[0mself\u001b[0m\u001b[1;33m[\u001b[0m\u001b[0mname\u001b[0m\u001b[1;33m]\u001b[0m\u001b[1;33m\u001b[0m\u001b[0m\n\u001b[1;32m-> 3081\u001b[1;33m             \u001b[1;32mreturn\u001b[0m \u001b[0mobject\u001b[0m\u001b[1;33m.\u001b[0m\u001b[0m__getattribute__\u001b[0m\u001b[1;33m(\u001b[0m\u001b[0mself\u001b[0m\u001b[1;33m,\u001b[0m \u001b[0mname\u001b[0m\u001b[1;33m)\u001b[0m\u001b[1;33m\u001b[0m\u001b[0m\n\u001b[0m\u001b[0;32m   3082\u001b[0m \u001b[1;33m\u001b[0m\u001b[0m\n\u001b[0;32m   3083\u001b[0m     \u001b[1;32mdef\u001b[0m \u001b[0m__setattr__\u001b[0m\u001b[1;33m(\u001b[0m\u001b[0mself\u001b[0m\u001b[1;33m,\u001b[0m \u001b[0mname\u001b[0m\u001b[1;33m,\u001b[0m \u001b[0mvalue\u001b[0m\u001b[1;33m)\u001b[0m\u001b[1;33m:\u001b[0m\u001b[1;33m\u001b[0m\u001b[0m\n",
      "\u001b[1;31mAttributeError\u001b[0m: 'DataFrame' object has no attribute 'set_freq'"
     ]
    }
   ],
   "source": [
    "# IDENTIFY SAMPLING FREQUENCY\n",
    "data.set_freq('None')\n",
    "data.inferred_freq()"
   ]
  },
  {
   "cell_type": "code",
   "execution_count": null,
   "metadata": {
    "collapsed": true
   },
   "outputs": [],
   "source": []
  }
 ],
 "metadata": {
  "kernelspec": {
   "display_name": "Python 3",
   "language": "python",
   "name": "python3"
  },
  "language_info": {
   "codemirror_mode": {
    "name": "ipython",
    "version": 3
   },
   "file_extension": ".py",
   "mimetype": "text/x-python",
   "name": "python",
   "nbconvert_exporter": "python",
   "pygments_lexer": "ipython3",
   "version": "3.6.3"
  }
 },
 "nbformat": 4,
 "nbformat_minor": 2
}
