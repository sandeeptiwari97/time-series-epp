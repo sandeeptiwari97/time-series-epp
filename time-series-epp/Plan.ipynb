{
 "cells": [
  {
   "cell_type": "markdown",
   "metadata": {},
   "source": [
    "THINGS TO DO BY APRIL 5:\n",
    "- Talk to solar company/Alex office hours on best way to model solar data\n",
    "- Get better solar data \n",
    "- Talk to Shikhar on how to gather data \n"
   ]
  },
  {
   "cell_type": "markdown",
   "metadata": {},
   "source": [
    "Current plan:\n",
    "Using Solar production data we have gathered, come up with a model which will predict future solar output. Using this information, make this a feature in another model which predicts energy prices. After we have gotten solar, try and add other factors such as wind, geothermal, natural gas, etc. Use all of these factors to create a new, better model. "
   ]
  },
  {
   "cell_type": "code",
   "execution_count": null,
   "metadata": {
    "collapsed": true
   },
   "outputs": [],
   "source": []
  }
 ],
 "metadata": {
  "kernelspec": {
   "display_name": "Python 3",
   "language": "python",
   "name": "python3"
  },
  "language_info": {
   "codemirror_mode": {
    "name": "ipython",
    "version": 3
   },
   "file_extension": ".py",
   "mimetype": "text/x-python",
   "name": "python",
   "nbconvert_exporter": "python",
   "pygments_lexer": "ipython3",
   "version": "3.6.1"
  }
 },
 "nbformat": 4,
 "nbformat_minor": 2
}
